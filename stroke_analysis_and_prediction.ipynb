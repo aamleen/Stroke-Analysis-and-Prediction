{
  "cells": [
    {
      "cell_type": "markdown",
      "metadata": {
        "id": "view-in-github",
        "colab_type": "text"
      },
      "source": [
        "<a href=\"https://colab.research.google.com/github/aamleen/Stroke-Analysis-and-Prediction/blob/main/stroke_analysis_and_prediction.ipynb\" target=\"_parent\"><img src=\"https://colab.research.google.com/assets/colab-badge.svg\" alt=\"Open In Colab\"/></a>"
      ]
    },
    {
      "cell_type": "code",
      "execution_count": null,
      "metadata": {
        "id": "JhOBrD2DKPDS"
      },
      "outputs": [],
      "source": [
        "# Jovian Commit Essentials\n",
        "# Please retain and execute this cell without modifying the contents for `jovian.commit` to work\n",
        "!pip install jovian --upgrade -q\n",
        "import jovian\n",
        "jovian.set_project('stroke-analysis-and-prediction')\n",
        "jovian.set_colab_id('1vAvyTeiZ788Kayv92V_u4QZSttIZWZGQ')"
      ]
    },
    {
      "cell_type": "markdown",
      "metadata": {
        "id": "3ZmDSiADKPDX"
      },
      "source": [
        "# <center>Stroke -- Analysis & Prediction</center>"
      ]
    },
    {
      "cell_type": "markdown",
      "metadata": {
        "id": "ZU0IfaCNKPDZ"
      },
      "source": [
        "![Stroke Image](https://storage.googleapis.com/kaggle-datasets-images/1120859/1882037/04da2fb7763e553bdf251d5adf6f88d9/dataset-card.jpg?t=2021-01-26-19-57-05)"
      ]
    },
    {
      "cell_type": "markdown",
      "metadata": {
        "id": "-MAIUrMLKPDa"
      },
      "source": [
        "# Introduction\n",
        "\n",
        "## About - Project\n",
        "   <p style='text-align:justify;'>A stroke occurs when a blood vessel in the brain ruptures and bleeds, or when there’s a blockage in the blood supply to the brain. The rupture or blockage prevents blood and oxygen from reaching the brain’s tissues.</p>\n",
        "    <p style='text-align:justify;'>According to the Centers for Disease Control and Prevention (CDC)Trusted Source, stroke is a leading cause of death in the United States. Every year, more than 795,000 U.S. people have a stroke. Without oxygen, brain cells and tissue become damaged and begin to die within minutes. </p>\n",
        "   <p style='text-align:justify;'>In this project, we are going to deeply analyse the medical condition of Stroke. There are 11 clinical conditions that help in greatly predicting stroke. We will be analysing each of those conditions collectively & individually for around 5000+ cases. Using Data Analysis & Visualisation tools & libraries, we will try to see a relationship between the medical conditions varying them in multiple permutations.  </p>\n",
        "\n",
        "## About - Dataset\n",
        "        \n",
        "   <p style='text-align:justify;'>According to the World Health Organization (WHO) stroke is the 2nd leading cause of death globally, responsible for approximately 11% of total deaths.\n",
        "This dataset is used to predict whether a patient is likely to get stroke based on the input parameters like gender, age, various diseases, and smoking status. Each row in the data provides relavant information about the patient.</p>\n",
        "\n",
        "The dataset is taken from Kaggle. [Click Here](https://www.kaggle.com/datasets/fedesoriano/stroke-prediction-dataset) to find the original dataset."
      ]
    },
    {
      "cell_type": "markdown",
      "metadata": {
        "id": "wUz_BfSxKPDc"
      },
      "source": [
        "## Downloading the Dataset\n",
        "\n",
        "> - Found the dataset on Kaggle: https://www.kaggle.com/datasets/fedesoriano/stroke-prediction-dataset\n",
        "> - Downloaded the dataset using the [`opendatasets` Python library](https://github.com/JovianML/opendatasets#opendatasets)"
      ]
    },
    {
      "cell_type": "code",
      "execution_count": null,
      "metadata": {
        "id": "ACmvdRV7KPDd"
      },
      "outputs": [],
      "source": [
        "!pip install jovian opendatasets --upgrade --quiet"
      ]
    },
    {
      "cell_type": "markdown",
      "metadata": {
        "id": "GW6ILdTaKPDe"
      },
      "source": [
        "Let's begin by downloading the data, and listing the files within the dataset."
      ]
    },
    {
      "cell_type": "code",
      "execution_count": null,
      "metadata": {
        "id": "j8t1u8FIKPDf"
      },
      "outputs": [],
      "source": [
        "dataset_url = 'https://www.kaggle.com/datasets/fedesoriano/stroke-prediction-dataset' "
      ]
    },
    {
      "cell_type": "code",
      "execution_count": null,
      "metadata": {
        "id": "qX6eWVymKPDf",
        "outputId": "c65de0e9-f935-47d0-c148-bc335943677c"
      },
      "outputs": [
        {
          "name": "stdout",
          "output_type": "stream",
          "text": [
            "Please provide your Kaggle credentials to download this dataset. Learn more: http://bit.ly/kaggle-creds\n",
            "Your Kaggle username: aamleenahmed\n",
            "Your Kaggle Key: ········\n",
            "Downloading stroke-prediction-dataset.zip to ./stroke-prediction-dataset\n"
          ]
        },
        {
          "name": "stderr",
          "output_type": "stream",
          "text": [
            "100%|██████████| 67.4k/67.4k [00:00<00:00, 6.06MB/s]"
          ]
        },
        {
          "name": "stdout",
          "output_type": "stream",
          "text": [
            "\n"
          ]
        },
        {
          "name": "stderr",
          "output_type": "stream",
          "text": [
            "\n"
          ]
        }
      ],
      "source": [
        "import opendatasets as od\n",
        "od.download(dataset_url)"
      ]
    },
    {
      "cell_type": "markdown",
      "metadata": {
        "id": "1W03D6o3KPDh"
      },
      "source": [
        "The dataset has been downloaded and extracted."
      ]
    },
    {
      "cell_type": "code",
      "execution_count": null,
      "metadata": {
        "id": "eyjPNQkwKPDi"
      },
      "outputs": [],
      "source": [
        "data_dir = './stroke-prediction-dataset'"
      ]
    },
    {
      "cell_type": "code",
      "execution_count": null,
      "metadata": {
        "id": "Ow5_Hlp3KPDi",
        "outputId": "a9470400-9c04-4d23-827e-3ce3532daf71"
      },
      "outputs": [
        {
          "data": {
            "text/plain": [
              "['healthcare-dataset-stroke-data.csv']"
            ]
          },
          "execution_count": 5,
          "metadata": {},
          "output_type": "execute_result"
        }
      ],
      "source": [
        "import os\n",
        "os.listdir(data_dir)"
      ]
    },
    {
      "cell_type": "markdown",
      "metadata": {
        "id": "kZ08FZWxKPDj"
      },
      "source": [
        "listdir() function helps in listing all the files in a particular directory. Here we find our dataset csv file."
      ]
    },
    {
      "cell_type": "markdown",
      "metadata": {
        "id": "EOOnzHcPKPDj"
      },
      "source": [
        "## Saving & uploading notebook\n",
        "   Now the setup is complete & we will be starting to work on the datasets. Everything has been synced accordingly, so now we should create a checkpoint for our current progress. Thus saving & uploading the notebook to jovian.\n",
        "   ### Will keep moving this cell, wherever checkpoint is required till completion."
      ]
    },
    {
      "cell_type": "code",
      "execution_count": null,
      "metadata": {
        "id": "NcJ3LUhEKPDj"
      },
      "outputs": [],
      "source": [
        "#project_name = \"stroke-analysis-and-prediction\" # change this (use lowercase letters and hyphens only)\n",
        "#!pip install jovian --upgrade -q\n",
        "#import jovian\n",
        "#jovian.commit(project=project_name)"
      ]
    },
    {
      "cell_type": "markdown",
      "metadata": {
        "id": "blJ6bmA7KPDk"
      },
      "source": [
        "## Data Preparation and Cleaning\n",
        "\n",
        "Now beginning the project work on our downloaded dataset.\n",
        "  TO perform any analysis & visualisation, first we need to filter out the unwanted entries, organize the data & prepare it for further processing. This step is also known as Data Pre-Processing & Cleaning. It is a very crucial step in Data Analysis, because it depends that what information you remove to improvise results, while retaining quality data for a rich analysis.\n",
        "\n"
      ]
    },
    {
      "cell_type": "code",
      "execution_count": null,
      "metadata": {
        "id": "BacF0HC3KPDk"
      },
      "outputs": [],
      "source": [
        "import pandas as pd "
      ]
    },
    {
      "cell_type": "code",
      "execution_count": null,
      "metadata": {
        "id": "-AJrhSYEKPDl",
        "outputId": "18faa6e7-05cb-410c-a59b-a84b714d5273"
      },
      "outputs": [
        {
          "data": {
            "text/html": [
              "<div>\n",
              "<style scoped>\n",
              "    .dataframe tbody tr th:only-of-type {\n",
              "        vertical-align: middle;\n",
              "    }\n",
              "\n",
              "    .dataframe tbody tr th {\n",
              "        vertical-align: top;\n",
              "    }\n",
              "\n",
              "    .dataframe thead th {\n",
              "        text-align: right;\n",
              "    }\n",
              "</style>\n",
              "<table border=\"1\" class=\"dataframe\">\n",
              "  <thead>\n",
              "    <tr style=\"text-align: right;\">\n",
              "      <th></th>\n",
              "      <th>id</th>\n",
              "      <th>gender</th>\n",
              "      <th>age</th>\n",
              "      <th>hypertension</th>\n",
              "      <th>heart_disease</th>\n",
              "      <th>ever_married</th>\n",
              "      <th>work_type</th>\n",
              "      <th>Residence_type</th>\n",
              "      <th>avg_glucose_level</th>\n",
              "      <th>bmi</th>\n",
              "      <th>smoking_status</th>\n",
              "      <th>stroke</th>\n",
              "    </tr>\n",
              "  </thead>\n",
              "  <tbody>\n",
              "    <tr>\n",
              "      <th>0</th>\n",
              "      <td>9046</td>\n",
              "      <td>Male</td>\n",
              "      <td>67.0</td>\n",
              "      <td>0</td>\n",
              "      <td>1</td>\n",
              "      <td>Yes</td>\n",
              "      <td>Private</td>\n",
              "      <td>Urban</td>\n",
              "      <td>228.69</td>\n",
              "      <td>36.6</td>\n",
              "      <td>formerly smoked</td>\n",
              "      <td>1</td>\n",
              "    </tr>\n",
              "    <tr>\n",
              "      <th>1</th>\n",
              "      <td>51676</td>\n",
              "      <td>Female</td>\n",
              "      <td>61.0</td>\n",
              "      <td>0</td>\n",
              "      <td>0</td>\n",
              "      <td>Yes</td>\n",
              "      <td>Self-employed</td>\n",
              "      <td>Rural</td>\n",
              "      <td>202.21</td>\n",
              "      <td>NaN</td>\n",
              "      <td>never smoked</td>\n",
              "      <td>1</td>\n",
              "    </tr>\n",
              "    <tr>\n",
              "      <th>2</th>\n",
              "      <td>31112</td>\n",
              "      <td>Male</td>\n",
              "      <td>80.0</td>\n",
              "      <td>0</td>\n",
              "      <td>1</td>\n",
              "      <td>Yes</td>\n",
              "      <td>Private</td>\n",
              "      <td>Rural</td>\n",
              "      <td>105.92</td>\n",
              "      <td>32.5</td>\n",
              "      <td>never smoked</td>\n",
              "      <td>1</td>\n",
              "    </tr>\n",
              "    <tr>\n",
              "      <th>3</th>\n",
              "      <td>60182</td>\n",
              "      <td>Female</td>\n",
              "      <td>49.0</td>\n",
              "      <td>0</td>\n",
              "      <td>0</td>\n",
              "      <td>Yes</td>\n",
              "      <td>Private</td>\n",
              "      <td>Urban</td>\n",
              "      <td>171.23</td>\n",
              "      <td>34.4</td>\n",
              "      <td>smokes</td>\n",
              "      <td>1</td>\n",
              "    </tr>\n",
              "    <tr>\n",
              "      <th>4</th>\n",
              "      <td>1665</td>\n",
              "      <td>Female</td>\n",
              "      <td>79.0</td>\n",
              "      <td>1</td>\n",
              "      <td>0</td>\n",
              "      <td>Yes</td>\n",
              "      <td>Self-employed</td>\n",
              "      <td>Rural</td>\n",
              "      <td>174.12</td>\n",
              "      <td>24.0</td>\n",
              "      <td>never smoked</td>\n",
              "      <td>1</td>\n",
              "    </tr>\n",
              "    <tr>\n",
              "      <th>...</th>\n",
              "      <td>...</td>\n",
              "      <td>...</td>\n",
              "      <td>...</td>\n",
              "      <td>...</td>\n",
              "      <td>...</td>\n",
              "      <td>...</td>\n",
              "      <td>...</td>\n",
              "      <td>...</td>\n",
              "      <td>...</td>\n",
              "      <td>...</td>\n",
              "      <td>...</td>\n",
              "      <td>...</td>\n",
              "    </tr>\n",
              "    <tr>\n",
              "      <th>5105</th>\n",
              "      <td>18234</td>\n",
              "      <td>Female</td>\n",
              "      <td>80.0</td>\n",
              "      <td>1</td>\n",
              "      <td>0</td>\n",
              "      <td>Yes</td>\n",
              "      <td>Private</td>\n",
              "      <td>Urban</td>\n",
              "      <td>83.75</td>\n",
              "      <td>NaN</td>\n",
              "      <td>never smoked</td>\n",
              "      <td>0</td>\n",
              "    </tr>\n",
              "    <tr>\n",
              "      <th>5106</th>\n",
              "      <td>44873</td>\n",
              "      <td>Female</td>\n",
              "      <td>81.0</td>\n",
              "      <td>0</td>\n",
              "      <td>0</td>\n",
              "      <td>Yes</td>\n",
              "      <td>Self-employed</td>\n",
              "      <td>Urban</td>\n",
              "      <td>125.20</td>\n",
              "      <td>40.0</td>\n",
              "      <td>never smoked</td>\n",
              "      <td>0</td>\n",
              "    </tr>\n",
              "    <tr>\n",
              "      <th>5107</th>\n",
              "      <td>19723</td>\n",
              "      <td>Female</td>\n",
              "      <td>35.0</td>\n",
              "      <td>0</td>\n",
              "      <td>0</td>\n",
              "      <td>Yes</td>\n",
              "      <td>Self-employed</td>\n",
              "      <td>Rural</td>\n",
              "      <td>82.99</td>\n",
              "      <td>30.6</td>\n",
              "      <td>never smoked</td>\n",
              "      <td>0</td>\n",
              "    </tr>\n",
              "    <tr>\n",
              "      <th>5108</th>\n",
              "      <td>37544</td>\n",
              "      <td>Male</td>\n",
              "      <td>51.0</td>\n",
              "      <td>0</td>\n",
              "      <td>0</td>\n",
              "      <td>Yes</td>\n",
              "      <td>Private</td>\n",
              "      <td>Rural</td>\n",
              "      <td>166.29</td>\n",
              "      <td>25.6</td>\n",
              "      <td>formerly smoked</td>\n",
              "      <td>0</td>\n",
              "    </tr>\n",
              "    <tr>\n",
              "      <th>5109</th>\n",
              "      <td>44679</td>\n",
              "      <td>Female</td>\n",
              "      <td>44.0</td>\n",
              "      <td>0</td>\n",
              "      <td>0</td>\n",
              "      <td>Yes</td>\n",
              "      <td>Govt_job</td>\n",
              "      <td>Urban</td>\n",
              "      <td>85.28</td>\n",
              "      <td>26.2</td>\n",
              "      <td>Unknown</td>\n",
              "      <td>0</td>\n",
              "    </tr>\n",
              "  </tbody>\n",
              "</table>\n",
              "<p>5110 rows × 12 columns</p>\n",
              "</div>"
            ],
            "text/plain": [
              "         id  gender   age  hypertension  heart_disease ever_married  \\\n",
              "0      9046    Male  67.0             0              1          Yes   \n",
              "1     51676  Female  61.0             0              0          Yes   \n",
              "2     31112    Male  80.0             0              1          Yes   \n",
              "3     60182  Female  49.0             0              0          Yes   \n",
              "4      1665  Female  79.0             1              0          Yes   \n",
              "...     ...     ...   ...           ...            ...          ...   \n",
              "5105  18234  Female  80.0             1              0          Yes   \n",
              "5106  44873  Female  81.0             0              0          Yes   \n",
              "5107  19723  Female  35.0             0              0          Yes   \n",
              "5108  37544    Male  51.0             0              0          Yes   \n",
              "5109  44679  Female  44.0             0              0          Yes   \n",
              "\n",
              "          work_type Residence_type  avg_glucose_level   bmi   smoking_status  \\\n",
              "0           Private          Urban             228.69  36.6  formerly smoked   \n",
              "1     Self-employed          Rural             202.21   NaN     never smoked   \n",
              "2           Private          Rural             105.92  32.5     never smoked   \n",
              "3           Private          Urban             171.23  34.4           smokes   \n",
              "4     Self-employed          Rural             174.12  24.0     never smoked   \n",
              "...             ...            ...                ...   ...              ...   \n",
              "5105        Private          Urban              83.75   NaN     never smoked   \n",
              "5106  Self-employed          Urban             125.20  40.0     never smoked   \n",
              "5107  Self-employed          Rural              82.99  30.6     never smoked   \n",
              "5108        Private          Rural             166.29  25.6  formerly smoked   \n",
              "5109       Govt_job          Urban              85.28  26.2          Unknown   \n",
              "\n",
              "      stroke  \n",
              "0          1  \n",
              "1          1  \n",
              "2          1  \n",
              "3          1  \n",
              "4          1  \n",
              "...      ...  \n",
              "5105       0  \n",
              "5106       0  \n",
              "5107       0  \n",
              "5108       0  \n",
              "5109       0  \n",
              "\n",
              "[5110 rows x 12 columns]"
            ]
          },
          "execution_count": 8,
          "metadata": {},
          "output_type": "execute_result"
        }
      ],
      "source": [
        "stroke_df=pd.read_csv(data_dir+'/healthcare-dataset-stroke-data.csv')\n",
        "stroke_df"
      ]
    },
    {
      "cell_type": "code",
      "execution_count": null,
      "metadata": {
        "id": "aCtCyQhBKPDl",
        "outputId": "24b01c5e-2170-49d8-d3cd-4a7c329a5df8"
      },
      "outputs": [
        {
          "data": {
            "text/html": [
              "<div>\n",
              "<style scoped>\n",
              "    .dataframe tbody tr th:only-of-type {\n",
              "        vertical-align: middle;\n",
              "    }\n",
              "\n",
              "    .dataframe tbody tr th {\n",
              "        vertical-align: top;\n",
              "    }\n",
              "\n",
              "    .dataframe thead th {\n",
              "        text-align: right;\n",
              "    }\n",
              "</style>\n",
              "<table border=\"1\" class=\"dataframe\">\n",
              "  <thead>\n",
              "    <tr style=\"text-align: right;\">\n",
              "      <th></th>\n",
              "      <th>gender</th>\n",
              "      <th>age</th>\n",
              "      <th>hypertension</th>\n",
              "      <th>heart_disease</th>\n",
              "      <th>ever_married</th>\n",
              "      <th>work_type</th>\n",
              "      <th>Residence_type</th>\n",
              "      <th>avg_glucose_level</th>\n",
              "      <th>bmi</th>\n",
              "      <th>smoking_status</th>\n",
              "      <th>stroke</th>\n",
              "    </tr>\n",
              "  </thead>\n",
              "  <tbody>\n",
              "    <tr>\n",
              "      <th>0</th>\n",
              "      <td>Male</td>\n",
              "      <td>67</td>\n",
              "      <td>0</td>\n",
              "      <td>1</td>\n",
              "      <td>Yes</td>\n",
              "      <td>Private</td>\n",
              "      <td>Urban</td>\n",
              "      <td>228.69</td>\n",
              "      <td>36.6</td>\n",
              "      <td>formerly smoked</td>\n",
              "      <td>1</td>\n",
              "    </tr>\n",
              "    <tr>\n",
              "      <th>1</th>\n",
              "      <td>Female</td>\n",
              "      <td>61</td>\n",
              "      <td>0</td>\n",
              "      <td>0</td>\n",
              "      <td>Yes</td>\n",
              "      <td>Self-employed</td>\n",
              "      <td>Rural</td>\n",
              "      <td>202.21</td>\n",
              "      <td>NaN</td>\n",
              "      <td>never smoked</td>\n",
              "      <td>1</td>\n",
              "    </tr>\n",
              "    <tr>\n",
              "      <th>2</th>\n",
              "      <td>Male</td>\n",
              "      <td>80</td>\n",
              "      <td>0</td>\n",
              "      <td>1</td>\n",
              "      <td>Yes</td>\n",
              "      <td>Private</td>\n",
              "      <td>Rural</td>\n",
              "      <td>105.92</td>\n",
              "      <td>32.5</td>\n",
              "      <td>never smoked</td>\n",
              "      <td>1</td>\n",
              "    </tr>\n",
              "    <tr>\n",
              "      <th>3</th>\n",
              "      <td>Female</td>\n",
              "      <td>49</td>\n",
              "      <td>0</td>\n",
              "      <td>0</td>\n",
              "      <td>Yes</td>\n",
              "      <td>Private</td>\n",
              "      <td>Urban</td>\n",
              "      <td>171.23</td>\n",
              "      <td>34.4</td>\n",
              "      <td>smokes</td>\n",
              "      <td>1</td>\n",
              "    </tr>\n",
              "    <tr>\n",
              "      <th>4</th>\n",
              "      <td>Female</td>\n",
              "      <td>79</td>\n",
              "      <td>1</td>\n",
              "      <td>0</td>\n",
              "      <td>Yes</td>\n",
              "      <td>Self-employed</td>\n",
              "      <td>Rural</td>\n",
              "      <td>174.12</td>\n",
              "      <td>24.0</td>\n",
              "      <td>never smoked</td>\n",
              "      <td>1</td>\n",
              "    </tr>\n",
              "    <tr>\n",
              "      <th>...</th>\n",
              "      <td>...</td>\n",
              "      <td>...</td>\n",
              "      <td>...</td>\n",
              "      <td>...</td>\n",
              "      <td>...</td>\n",
              "      <td>...</td>\n",
              "      <td>...</td>\n",
              "      <td>...</td>\n",
              "      <td>...</td>\n",
              "      <td>...</td>\n",
              "      <td>...</td>\n",
              "    </tr>\n",
              "    <tr>\n",
              "      <th>5105</th>\n",
              "      <td>Female</td>\n",
              "      <td>80</td>\n",
              "      <td>1</td>\n",
              "      <td>0</td>\n",
              "      <td>Yes</td>\n",
              "      <td>Private</td>\n",
              "      <td>Urban</td>\n",
              "      <td>83.75</td>\n",
              "      <td>NaN</td>\n",
              "      <td>never smoked</td>\n",
              "      <td>0</td>\n",
              "    </tr>\n",
              "    <tr>\n",
              "      <th>5106</th>\n",
              "      <td>Female</td>\n",
              "      <td>81</td>\n",
              "      <td>0</td>\n",
              "      <td>0</td>\n",
              "      <td>Yes</td>\n",
              "      <td>Self-employed</td>\n",
              "      <td>Urban</td>\n",
              "      <td>125.20</td>\n",
              "      <td>40.0</td>\n",
              "      <td>never smoked</td>\n",
              "      <td>0</td>\n",
              "    </tr>\n",
              "    <tr>\n",
              "      <th>5107</th>\n",
              "      <td>Female</td>\n",
              "      <td>35</td>\n",
              "      <td>0</td>\n",
              "      <td>0</td>\n",
              "      <td>Yes</td>\n",
              "      <td>Self-employed</td>\n",
              "      <td>Rural</td>\n",
              "      <td>82.99</td>\n",
              "      <td>30.6</td>\n",
              "      <td>never smoked</td>\n",
              "      <td>0</td>\n",
              "    </tr>\n",
              "    <tr>\n",
              "      <th>5108</th>\n",
              "      <td>Male</td>\n",
              "      <td>51</td>\n",
              "      <td>0</td>\n",
              "      <td>0</td>\n",
              "      <td>Yes</td>\n",
              "      <td>Private</td>\n",
              "      <td>Rural</td>\n",
              "      <td>166.29</td>\n",
              "      <td>25.6</td>\n",
              "      <td>formerly smoked</td>\n",
              "      <td>0</td>\n",
              "    </tr>\n",
              "    <tr>\n",
              "      <th>5109</th>\n",
              "      <td>Female</td>\n",
              "      <td>44</td>\n",
              "      <td>0</td>\n",
              "      <td>0</td>\n",
              "      <td>Yes</td>\n",
              "      <td>Govt_job</td>\n",
              "      <td>Urban</td>\n",
              "      <td>85.28</td>\n",
              "      <td>26.2</td>\n",
              "      <td>Unknown</td>\n",
              "      <td>0</td>\n",
              "    </tr>\n",
              "  </tbody>\n",
              "</table>\n",
              "<p>5110 rows × 11 columns</p>\n",
              "</div>"
            ],
            "text/plain": [
              "      gender  age  hypertension  heart_disease ever_married      work_type  \\\n",
              "0       Male   67             0              1          Yes        Private   \n",
              "1     Female   61             0              0          Yes  Self-employed   \n",
              "2       Male   80             0              1          Yes        Private   \n",
              "3     Female   49             0              0          Yes        Private   \n",
              "4     Female   79             1              0          Yes  Self-employed   \n",
              "...      ...  ...           ...            ...          ...            ...   \n",
              "5105  Female   80             1              0          Yes        Private   \n",
              "5106  Female   81             0              0          Yes  Self-employed   \n",
              "5107  Female   35             0              0          Yes  Self-employed   \n",
              "5108    Male   51             0              0          Yes        Private   \n",
              "5109  Female   44             0              0          Yes       Govt_job   \n",
              "\n",
              "     Residence_type  avg_glucose_level   bmi   smoking_status  stroke  \n",
              "0             Urban             228.69  36.6  formerly smoked       1  \n",
              "1             Rural             202.21   NaN     never smoked       1  \n",
              "2             Rural             105.92  32.5     never smoked       1  \n",
              "3             Urban             171.23  34.4           smokes       1  \n",
              "4             Rural             174.12  24.0     never smoked       1  \n",
              "...             ...                ...   ...              ...     ...  \n",
              "5105          Urban              83.75   NaN     never smoked       0  \n",
              "5106          Urban             125.20  40.0     never smoked       0  \n",
              "5107          Rural              82.99  30.6     never smoked       0  \n",
              "5108          Rural             166.29  25.6  formerly smoked       0  \n",
              "5109          Urban              85.28  26.2          Unknown       0  \n",
              "\n",
              "[5110 rows x 11 columns]"
            ]
          },
          "execution_count": 9,
          "metadata": {},
          "output_type": "execute_result"
        }
      ],
      "source": [
        "#Dropping the IDs, as they have no significance\n",
        "stroke_df.drop(['id'],inplace=True,axis=1,errors='ignore')\n",
        "\n",
        "#Converting datatypes to int for further arithmetic analysis\n",
        "stroke_df[['age','hypertension','heart_disease','stroke']]=(stroke_df[['age','hypertension','heart_disease','stroke']]).astype(int)\n",
        "\n",
        "stroke_df"
      ]
    },
    {
      "cell_type": "code",
      "execution_count": null,
      "metadata": {
        "id": "Rwd90qwWKPDm",
        "outputId": "9af08258-2c31-4236-fa2f-5e8d72e89fe3"
      },
      "outputs": [
        {
          "data": {
            "text/plain": [
              "gender               False\n",
              "age                  False\n",
              "hypertension         False\n",
              "heart_disease        False\n",
              "ever_married         False\n",
              "work_type            False\n",
              "Residence_type       False\n",
              "avg_glucose_level    False\n",
              "bmi                   True\n",
              "smoking_status       False\n",
              "stroke               False\n",
              "dtype: bool"
            ]
          },
          "execution_count": 10,
          "metadata": {},
          "output_type": "execute_result"
        }
      ],
      "source": [
        "#Checking for null values, so that they can be removed or substituted\n",
        "stroke_df.isnull().any()"
      ]
    },
    {
      "cell_type": "markdown",
      "metadata": {
        "id": "jmYE0oPYKPDn"
      },
      "source": [
        "Thus, only BMI Column contains some null values. Lets analyse them & substitute accordingly"
      ]
    },
    {
      "cell_type": "code",
      "execution_count": null,
      "metadata": {
        "id": "tRd2I8JOKPDo",
        "outputId": "b5b42217-be53-428a-8939-de2663f43880"
      },
      "outputs": [
        {
          "name": "stdout",
          "output_type": "stream",
          "text": [
            "201\n"
          ]
        },
        {
          "data": {
            "text/html": [
              "<div>\n",
              "<style scoped>\n",
              "    .dataframe tbody tr th:only-of-type {\n",
              "        vertical-align: middle;\n",
              "    }\n",
              "\n",
              "    .dataframe tbody tr th {\n",
              "        vertical-align: top;\n",
              "    }\n",
              "\n",
              "    .dataframe thead th {\n",
              "        text-align: right;\n",
              "    }\n",
              "</style>\n",
              "<table border=\"1\" class=\"dataframe\">\n",
              "  <thead>\n",
              "    <tr style=\"text-align: right;\">\n",
              "      <th></th>\n",
              "      <th>gender</th>\n",
              "      <th>age</th>\n",
              "      <th>hypertension</th>\n",
              "      <th>heart_disease</th>\n",
              "      <th>ever_married</th>\n",
              "      <th>work_type</th>\n",
              "      <th>Residence_type</th>\n",
              "      <th>avg_glucose_level</th>\n",
              "      <th>bmi</th>\n",
              "      <th>smoking_status</th>\n",
              "      <th>stroke</th>\n",
              "    </tr>\n",
              "  </thead>\n",
              "  <tbody>\n",
              "    <tr>\n",
              "      <th>0</th>\n",
              "      <td>Male</td>\n",
              "      <td>67</td>\n",
              "      <td>0</td>\n",
              "      <td>1</td>\n",
              "      <td>Yes</td>\n",
              "      <td>Private</td>\n",
              "      <td>Urban</td>\n",
              "      <td>228.69</td>\n",
              "      <td>36.6</td>\n",
              "      <td>formerly smoked</td>\n",
              "      <td>1</td>\n",
              "    </tr>\n",
              "    <tr>\n",
              "      <th>2</th>\n",
              "      <td>Male</td>\n",
              "      <td>80</td>\n",
              "      <td>0</td>\n",
              "      <td>1</td>\n",
              "      <td>Yes</td>\n",
              "      <td>Private</td>\n",
              "      <td>Rural</td>\n",
              "      <td>105.92</td>\n",
              "      <td>32.5</td>\n",
              "      <td>never smoked</td>\n",
              "      <td>1</td>\n",
              "    </tr>\n",
              "    <tr>\n",
              "      <th>3</th>\n",
              "      <td>Female</td>\n",
              "      <td>49</td>\n",
              "      <td>0</td>\n",
              "      <td>0</td>\n",
              "      <td>Yes</td>\n",
              "      <td>Private</td>\n",
              "      <td>Urban</td>\n",
              "      <td>171.23</td>\n",
              "      <td>34.4</td>\n",
              "      <td>smokes</td>\n",
              "      <td>1</td>\n",
              "    </tr>\n",
              "    <tr>\n",
              "      <th>4</th>\n",
              "      <td>Female</td>\n",
              "      <td>79</td>\n",
              "      <td>1</td>\n",
              "      <td>0</td>\n",
              "      <td>Yes</td>\n",
              "      <td>Self-employed</td>\n",
              "      <td>Rural</td>\n",
              "      <td>174.12</td>\n",
              "      <td>24.0</td>\n",
              "      <td>never smoked</td>\n",
              "      <td>1</td>\n",
              "    </tr>\n",
              "    <tr>\n",
              "      <th>5</th>\n",
              "      <td>Male</td>\n",
              "      <td>81</td>\n",
              "      <td>0</td>\n",
              "      <td>0</td>\n",
              "      <td>Yes</td>\n",
              "      <td>Private</td>\n",
              "      <td>Urban</td>\n",
              "      <td>186.21</td>\n",
              "      <td>29.0</td>\n",
              "      <td>formerly smoked</td>\n",
              "      <td>1</td>\n",
              "    </tr>\n",
              "    <tr>\n",
              "      <th>...</th>\n",
              "      <td>...</td>\n",
              "      <td>...</td>\n",
              "      <td>...</td>\n",
              "      <td>...</td>\n",
              "      <td>...</td>\n",
              "      <td>...</td>\n",
              "      <td>...</td>\n",
              "      <td>...</td>\n",
              "      <td>...</td>\n",
              "      <td>...</td>\n",
              "      <td>...</td>\n",
              "    </tr>\n",
              "    <tr>\n",
              "      <th>5104</th>\n",
              "      <td>Female</td>\n",
              "      <td>13</td>\n",
              "      <td>0</td>\n",
              "      <td>0</td>\n",
              "      <td>No</td>\n",
              "      <td>children</td>\n",
              "      <td>Rural</td>\n",
              "      <td>103.08</td>\n",
              "      <td>18.6</td>\n",
              "      <td>Unknown</td>\n",
              "      <td>0</td>\n",
              "    </tr>\n",
              "    <tr>\n",
              "      <th>5106</th>\n",
              "      <td>Female</td>\n",
              "      <td>81</td>\n",
              "      <td>0</td>\n",
              "      <td>0</td>\n",
              "      <td>Yes</td>\n",
              "      <td>Self-employed</td>\n",
              "      <td>Urban</td>\n",
              "      <td>125.20</td>\n",
              "      <td>40.0</td>\n",
              "      <td>never smoked</td>\n",
              "      <td>0</td>\n",
              "    </tr>\n",
              "    <tr>\n",
              "      <th>5107</th>\n",
              "      <td>Female</td>\n",
              "      <td>35</td>\n",
              "      <td>0</td>\n",
              "      <td>0</td>\n",
              "      <td>Yes</td>\n",
              "      <td>Self-employed</td>\n",
              "      <td>Rural</td>\n",
              "      <td>82.99</td>\n",
              "      <td>30.6</td>\n",
              "      <td>never smoked</td>\n",
              "      <td>0</td>\n",
              "    </tr>\n",
              "    <tr>\n",
              "      <th>5108</th>\n",
              "      <td>Male</td>\n",
              "      <td>51</td>\n",
              "      <td>0</td>\n",
              "      <td>0</td>\n",
              "      <td>Yes</td>\n",
              "      <td>Private</td>\n",
              "      <td>Rural</td>\n",
              "      <td>166.29</td>\n",
              "      <td>25.6</td>\n",
              "      <td>formerly smoked</td>\n",
              "      <td>0</td>\n",
              "    </tr>\n",
              "    <tr>\n",
              "      <th>5109</th>\n",
              "      <td>Female</td>\n",
              "      <td>44</td>\n",
              "      <td>0</td>\n",
              "      <td>0</td>\n",
              "      <td>Yes</td>\n",
              "      <td>Govt_job</td>\n",
              "      <td>Urban</td>\n",
              "      <td>85.28</td>\n",
              "      <td>26.2</td>\n",
              "      <td>Unknown</td>\n",
              "      <td>0</td>\n",
              "    </tr>\n",
              "  </tbody>\n",
              "</table>\n",
              "<p>4909 rows × 11 columns</p>\n",
              "</div>"
            ],
            "text/plain": [
              "      gender  age  hypertension  heart_disease ever_married      work_type  \\\n",
              "0       Male   67             0              1          Yes        Private   \n",
              "2       Male   80             0              1          Yes        Private   \n",
              "3     Female   49             0              0          Yes        Private   \n",
              "4     Female   79             1              0          Yes  Self-employed   \n",
              "5       Male   81             0              0          Yes        Private   \n",
              "...      ...  ...           ...            ...          ...            ...   \n",
              "5104  Female   13             0              0           No       children   \n",
              "5106  Female   81             0              0          Yes  Self-employed   \n",
              "5107  Female   35             0              0          Yes  Self-employed   \n",
              "5108    Male   51             0              0          Yes        Private   \n",
              "5109  Female   44             0              0          Yes       Govt_job   \n",
              "\n",
              "     Residence_type  avg_glucose_level   bmi   smoking_status  stroke  \n",
              "0             Urban             228.69  36.6  formerly smoked       1  \n",
              "2             Rural             105.92  32.5     never smoked       1  \n",
              "3             Urban             171.23  34.4           smokes       1  \n",
              "4             Rural             174.12  24.0     never smoked       1  \n",
              "5             Urban             186.21  29.0  formerly smoked       1  \n",
              "...             ...                ...   ...              ...     ...  \n",
              "5104          Rural             103.08  18.6          Unknown       0  \n",
              "5106          Urban             125.20  40.0     never smoked       0  \n",
              "5107          Rural              82.99  30.6     never smoked       0  \n",
              "5108          Rural             166.29  25.6  formerly smoked       0  \n",
              "5109          Urban              85.28  26.2          Unknown       0  \n",
              "\n",
              "[4909 rows x 11 columns]"
            ]
          },
          "execution_count": 11,
          "metadata": {},
          "output_type": "execute_result"
        }
      ],
      "source": [
        "print(stroke_df['bmi'].isnull().sum())\n",
        "\n",
        "#removing & storing the entries containing null entries, so that we can make the dataset uniform. Later if needed, we can add it\n",
        "null_bmi=stroke_df[stroke_df['bmi'].isnull()]\n",
        "null_bmi\n",
        "\n",
        "stroke_df=stroke_df[stroke_df['bmi'].isnull()==False]\n",
        "stroke_df"
      ]
    },
    {
      "cell_type": "code",
      "execution_count": null,
      "metadata": {
        "id": "mCBr5ciAKPDo",
        "outputId": "76fec29b-c8e7-494d-a132-05e810f44f6c"
      },
      "outputs": [
        {
          "name": "stdout",
          "output_type": "stream",
          "text": [
            "<class 'pandas.core.frame.DataFrame'>\n",
            "Int64Index: 4909 entries, 0 to 5109\n",
            "Data columns (total 11 columns):\n",
            " #   Column             Non-Null Count  Dtype  \n",
            "---  ------             --------------  -----  \n",
            " 0   gender             4909 non-null   object \n",
            " 1   age                4909 non-null   int64  \n",
            " 2   hypertension       4909 non-null   int64  \n",
            " 3   heart_disease      4909 non-null   int64  \n",
            " 4   ever_married       4909 non-null   object \n",
            " 5   work_type          4909 non-null   object \n",
            " 6   Residence_type     4909 non-null   object \n",
            " 7   avg_glucose_level  4909 non-null   float64\n",
            " 8   bmi                4909 non-null   float64\n",
            " 9   smoking_status     4909 non-null   object \n",
            " 10  stroke             4909 non-null   int64  \n",
            "dtypes: float64(2), int64(4), object(5)\n",
            "memory usage: 460.2+ KB\n"
          ]
        },
        {
          "data": {
            "text/plain": [
              "None"
            ]
          },
          "metadata": {},
          "output_type": "display_data"
        },
        {
          "data": {
            "text/html": [
              "<div>\n",
              "<style scoped>\n",
              "    .dataframe tbody tr th:only-of-type {\n",
              "        vertical-align: middle;\n",
              "    }\n",
              "\n",
              "    .dataframe tbody tr th {\n",
              "        vertical-align: top;\n",
              "    }\n",
              "\n",
              "    .dataframe thead th {\n",
              "        text-align: right;\n",
              "    }\n",
              "</style>\n",
              "<table border=\"1\" class=\"dataframe\">\n",
              "  <thead>\n",
              "    <tr style=\"text-align: right;\">\n",
              "      <th></th>\n",
              "      <th>age</th>\n",
              "      <th>hypertension</th>\n",
              "      <th>heart_disease</th>\n",
              "      <th>avg_glucose_level</th>\n",
              "      <th>bmi</th>\n",
              "      <th>stroke</th>\n",
              "    </tr>\n",
              "  </thead>\n",
              "  <tbody>\n",
              "    <tr>\n",
              "      <th>count</th>\n",
              "      <td>4909.000000</td>\n",
              "      <td>4909.000000</td>\n",
              "      <td>4909.000000</td>\n",
              "      <td>4909.000000</td>\n",
              "      <td>4909.000000</td>\n",
              "      <td>4909.000000</td>\n",
              "    </tr>\n",
              "    <tr>\n",
              "      <th>mean</th>\n",
              "      <td>42.854145</td>\n",
              "      <td>0.091872</td>\n",
              "      <td>0.049501</td>\n",
              "      <td>105.305150</td>\n",
              "      <td>28.893237</td>\n",
              "      <td>0.042575</td>\n",
              "    </tr>\n",
              "    <tr>\n",
              "      <th>std</th>\n",
              "      <td>22.575986</td>\n",
              "      <td>0.288875</td>\n",
              "      <td>0.216934</td>\n",
              "      <td>44.424341</td>\n",
              "      <td>7.854067</td>\n",
              "      <td>0.201917</td>\n",
              "    </tr>\n",
              "    <tr>\n",
              "      <th>min</th>\n",
              "      <td>0.000000</td>\n",
              "      <td>0.000000</td>\n",
              "      <td>0.000000</td>\n",
              "      <td>55.120000</td>\n",
              "      <td>10.300000</td>\n",
              "      <td>0.000000</td>\n",
              "    </tr>\n",
              "    <tr>\n",
              "      <th>25%</th>\n",
              "      <td>25.000000</td>\n",
              "      <td>0.000000</td>\n",
              "      <td>0.000000</td>\n",
              "      <td>77.070000</td>\n",
              "      <td>23.500000</td>\n",
              "      <td>0.000000</td>\n",
              "    </tr>\n",
              "    <tr>\n",
              "      <th>50%</th>\n",
              "      <td>44.000000</td>\n",
              "      <td>0.000000</td>\n",
              "      <td>0.000000</td>\n",
              "      <td>91.680000</td>\n",
              "      <td>28.100000</td>\n",
              "      <td>0.000000</td>\n",
              "    </tr>\n",
              "    <tr>\n",
              "      <th>75%</th>\n",
              "      <td>60.000000</td>\n",
              "      <td>0.000000</td>\n",
              "      <td>0.000000</td>\n",
              "      <td>113.570000</td>\n",
              "      <td>33.100000</td>\n",
              "      <td>0.000000</td>\n",
              "    </tr>\n",
              "    <tr>\n",
              "      <th>max</th>\n",
              "      <td>82.000000</td>\n",
              "      <td>1.000000</td>\n",
              "      <td>1.000000</td>\n",
              "      <td>271.740000</td>\n",
              "      <td>97.600000</td>\n",
              "      <td>1.000000</td>\n",
              "    </tr>\n",
              "  </tbody>\n",
              "</table>\n",
              "</div>"
            ],
            "text/plain": [
              "               age  hypertension  heart_disease  avg_glucose_level  \\\n",
              "count  4909.000000   4909.000000    4909.000000        4909.000000   \n",
              "mean     42.854145      0.091872       0.049501         105.305150   \n",
              "std      22.575986      0.288875       0.216934          44.424341   \n",
              "min       0.000000      0.000000       0.000000          55.120000   \n",
              "25%      25.000000      0.000000       0.000000          77.070000   \n",
              "50%      44.000000      0.000000       0.000000          91.680000   \n",
              "75%      60.000000      0.000000       0.000000         113.570000   \n",
              "max      82.000000      1.000000       1.000000         271.740000   \n",
              "\n",
              "               bmi       stroke  \n",
              "count  4909.000000  4909.000000  \n",
              "mean     28.893237     0.042575  \n",
              "std       7.854067     0.201917  \n",
              "min      10.300000     0.000000  \n",
              "25%      23.500000     0.000000  \n",
              "50%      28.100000     0.000000  \n",
              "75%      33.100000     0.000000  \n",
              "max      97.600000     1.000000  "
            ]
          },
          "execution_count": 12,
          "metadata": {},
          "output_type": "execute_result"
        }
      ],
      "source": [
        "#Now checking the dataframe for description & statistics\n",
        "\n",
        "display(stroke_df.info())\n",
        "\n",
        "stroke_df.describe()"
      ]
    },
    {
      "cell_type": "markdown",
      "metadata": {
        "id": "bfRxkbR-KPDp"
      },
      "source": [
        "    Using info() function we find out some basic information about the dataset. We saw that now none of the column contains null values. \n",
        "    Using describe() helps in understanding the values of the dataframe. It clubs all the basic statistical operations on all the same type of values (in each column). It showed that our dataset contains a variety of data from various ages, ranging from 0-82. Also the glucose levels are well within acceptable limits, so thats correct too.\n",
        "    One thing suspicious is such low level of BMI, so having a look at them once."
      ]
    },
    {
      "cell_type": "code",
      "execution_count": null,
      "metadata": {
        "id": "yu_RkkVsKPDp",
        "outputId": "82cf32b0-abd3-4166-b5de-178a601c8930"
      },
      "outputs": [
        {
          "data": {
            "text/html": [
              "<div>\n",
              "<style scoped>\n",
              "    .dataframe tbody tr th:only-of-type {\n",
              "        vertical-align: middle;\n",
              "    }\n",
              "\n",
              "    .dataframe tbody tr th {\n",
              "        vertical-align: top;\n",
              "    }\n",
              "\n",
              "    .dataframe thead th {\n",
              "        text-align: right;\n",
              "    }\n",
              "</style>\n",
              "<table border=\"1\" class=\"dataframe\">\n",
              "  <thead>\n",
              "    <tr style=\"text-align: right;\">\n",
              "      <th></th>\n",
              "      <th>gender</th>\n",
              "      <th>age</th>\n",
              "      <th>hypertension</th>\n",
              "      <th>heart_disease</th>\n",
              "      <th>ever_married</th>\n",
              "      <th>work_type</th>\n",
              "      <th>Residence_type</th>\n",
              "      <th>avg_glucose_level</th>\n",
              "      <th>bmi</th>\n",
              "      <th>smoking_status</th>\n",
              "      <th>stroke</th>\n",
              "    </tr>\n",
              "  </thead>\n",
              "  <tbody>\n",
              "    <tr>\n",
              "      <th>1609</th>\n",
              "      <td>Female</td>\n",
              "      <td>1</td>\n",
              "      <td>0</td>\n",
              "      <td>0</td>\n",
              "      <td>No</td>\n",
              "      <td>children</td>\n",
              "      <td>Rural</td>\n",
              "      <td>122.04</td>\n",
              "      <td>10.3</td>\n",
              "      <td>Unknown</td>\n",
              "      <td>0</td>\n",
              "    </tr>\n",
              "    <tr>\n",
              "      <th>2187</th>\n",
              "      <td>Male</td>\n",
              "      <td>40</td>\n",
              "      <td>0</td>\n",
              "      <td>0</td>\n",
              "      <td>Yes</td>\n",
              "      <td>Private</td>\n",
              "      <td>Rural</td>\n",
              "      <td>60.96</td>\n",
              "      <td>11.5</td>\n",
              "      <td>never smoked</td>\n",
              "      <td>0</td>\n",
              "    </tr>\n",
              "    <tr>\n",
              "      <th>3307</th>\n",
              "      <td>Female</td>\n",
              "      <td>79</td>\n",
              "      <td>0</td>\n",
              "      <td>0</td>\n",
              "      <td>Yes</td>\n",
              "      <td>Self-employed</td>\n",
              "      <td>Urban</td>\n",
              "      <td>79.03</td>\n",
              "      <td>11.3</td>\n",
              "      <td>Unknown</td>\n",
              "      <td>0</td>\n",
              "    </tr>\n",
              "  </tbody>\n",
              "</table>\n",
              "</div>"
            ],
            "text/plain": [
              "      gender  age  hypertension  heart_disease ever_married      work_type  \\\n",
              "1609  Female    1             0              0           No       children   \n",
              "2187    Male   40             0              0          Yes        Private   \n",
              "3307  Female   79             0              0          Yes  Self-employed   \n",
              "\n",
              "     Residence_type  avg_glucose_level   bmi smoking_status  stroke  \n",
              "1609          Rural             122.04  10.3        Unknown       0  \n",
              "2187          Rural              60.96  11.5   never smoked       0  \n",
              "3307          Urban              79.03  11.3        Unknown       0  "
            ]
          },
          "metadata": {},
          "output_type": "display_data"
        },
        {
          "data": {
            "text/html": [
              "<div>\n",
              "<style scoped>\n",
              "    .dataframe tbody tr th:only-of-type {\n",
              "        vertical-align: middle;\n",
              "    }\n",
              "\n",
              "    .dataframe tbody tr th {\n",
              "        vertical-align: top;\n",
              "    }\n",
              "\n",
              "    .dataframe thead th {\n",
              "        text-align: right;\n",
              "    }\n",
              "</style>\n",
              "<table border=\"1\" class=\"dataframe\">\n",
              "  <thead>\n",
              "    <tr style=\"text-align: right;\">\n",
              "      <th></th>\n",
              "      <th>gender</th>\n",
              "      <th>age</th>\n",
              "      <th>hypertension</th>\n",
              "      <th>heart_disease</th>\n",
              "      <th>ever_married</th>\n",
              "      <th>work_type</th>\n",
              "      <th>Residence_type</th>\n",
              "      <th>avg_glucose_level</th>\n",
              "      <th>bmi</th>\n",
              "      <th>smoking_status</th>\n",
              "      <th>stroke</th>\n",
              "    </tr>\n",
              "  </thead>\n",
              "  <tbody>\n",
              "    <tr>\n",
              "      <th>0</th>\n",
              "      <td>Male</td>\n",
              "      <td>67</td>\n",
              "      <td>0</td>\n",
              "      <td>1</td>\n",
              "      <td>Yes</td>\n",
              "      <td>Private</td>\n",
              "      <td>Urban</td>\n",
              "      <td>228.69</td>\n",
              "      <td>36.6</td>\n",
              "      <td>formerly smoked</td>\n",
              "      <td>1</td>\n",
              "    </tr>\n",
              "    <tr>\n",
              "      <th>2</th>\n",
              "      <td>Male</td>\n",
              "      <td>80</td>\n",
              "      <td>0</td>\n",
              "      <td>1</td>\n",
              "      <td>Yes</td>\n",
              "      <td>Private</td>\n",
              "      <td>Rural</td>\n",
              "      <td>105.92</td>\n",
              "      <td>32.5</td>\n",
              "      <td>never smoked</td>\n",
              "      <td>1</td>\n",
              "    </tr>\n",
              "    <tr>\n",
              "      <th>3</th>\n",
              "      <td>Female</td>\n",
              "      <td>49</td>\n",
              "      <td>0</td>\n",
              "      <td>0</td>\n",
              "      <td>Yes</td>\n",
              "      <td>Private</td>\n",
              "      <td>Urban</td>\n",
              "      <td>171.23</td>\n",
              "      <td>34.4</td>\n",
              "      <td>smokes</td>\n",
              "      <td>1</td>\n",
              "    </tr>\n",
              "    <tr>\n",
              "      <th>4</th>\n",
              "      <td>Female</td>\n",
              "      <td>79</td>\n",
              "      <td>1</td>\n",
              "      <td>0</td>\n",
              "      <td>Yes</td>\n",
              "      <td>Self-employed</td>\n",
              "      <td>Rural</td>\n",
              "      <td>174.12</td>\n",
              "      <td>24.0</td>\n",
              "      <td>never smoked</td>\n",
              "      <td>1</td>\n",
              "    </tr>\n",
              "    <tr>\n",
              "      <th>5</th>\n",
              "      <td>Male</td>\n",
              "      <td>81</td>\n",
              "      <td>0</td>\n",
              "      <td>0</td>\n",
              "      <td>Yes</td>\n",
              "      <td>Private</td>\n",
              "      <td>Urban</td>\n",
              "      <td>186.21</td>\n",
              "      <td>29.0</td>\n",
              "      <td>formerly smoked</td>\n",
              "      <td>1</td>\n",
              "    </tr>\n",
              "    <tr>\n",
              "      <th>...</th>\n",
              "      <td>...</td>\n",
              "      <td>...</td>\n",
              "      <td>...</td>\n",
              "      <td>...</td>\n",
              "      <td>...</td>\n",
              "      <td>...</td>\n",
              "      <td>...</td>\n",
              "      <td>...</td>\n",
              "      <td>...</td>\n",
              "      <td>...</td>\n",
              "      <td>...</td>\n",
              "    </tr>\n",
              "    <tr>\n",
              "      <th>5104</th>\n",
              "      <td>Female</td>\n",
              "      <td>13</td>\n",
              "      <td>0</td>\n",
              "      <td>0</td>\n",
              "      <td>No</td>\n",
              "      <td>children</td>\n",
              "      <td>Rural</td>\n",
              "      <td>103.08</td>\n",
              "      <td>18.6</td>\n",
              "      <td>Unknown</td>\n",
              "      <td>0</td>\n",
              "    </tr>\n",
              "    <tr>\n",
              "      <th>5106</th>\n",
              "      <td>Female</td>\n",
              "      <td>81</td>\n",
              "      <td>0</td>\n",
              "      <td>0</td>\n",
              "      <td>Yes</td>\n",
              "      <td>Self-employed</td>\n",
              "      <td>Urban</td>\n",
              "      <td>125.20</td>\n",
              "      <td>40.0</td>\n",
              "      <td>never smoked</td>\n",
              "      <td>0</td>\n",
              "    </tr>\n",
              "    <tr>\n",
              "      <th>5107</th>\n",
              "      <td>Female</td>\n",
              "      <td>35</td>\n",
              "      <td>0</td>\n",
              "      <td>0</td>\n",
              "      <td>Yes</td>\n",
              "      <td>Self-employed</td>\n",
              "      <td>Rural</td>\n",
              "      <td>82.99</td>\n",
              "      <td>30.6</td>\n",
              "      <td>never smoked</td>\n",
              "      <td>0</td>\n",
              "    </tr>\n",
              "    <tr>\n",
              "      <th>5108</th>\n",
              "      <td>Male</td>\n",
              "      <td>51</td>\n",
              "      <td>0</td>\n",
              "      <td>0</td>\n",
              "      <td>Yes</td>\n",
              "      <td>Private</td>\n",
              "      <td>Rural</td>\n",
              "      <td>166.29</td>\n",
              "      <td>25.6</td>\n",
              "      <td>formerly smoked</td>\n",
              "      <td>0</td>\n",
              "    </tr>\n",
              "    <tr>\n",
              "      <th>5109</th>\n",
              "      <td>Female</td>\n",
              "      <td>44</td>\n",
              "      <td>0</td>\n",
              "      <td>0</td>\n",
              "      <td>Yes</td>\n",
              "      <td>Govt_job</td>\n",
              "      <td>Urban</td>\n",
              "      <td>85.28</td>\n",
              "      <td>26.2</td>\n",
              "      <td>Unknown</td>\n",
              "      <td>0</td>\n",
              "    </tr>\n",
              "  </tbody>\n",
              "</table>\n",
              "<p>4905 rows × 11 columns</p>\n",
              "</div>"
            ],
            "text/plain": [
              "      gender  age  hypertension  heart_disease ever_married      work_type  \\\n",
              "0       Male   67             0              1          Yes        Private   \n",
              "2       Male   80             0              1          Yes        Private   \n",
              "3     Female   49             0              0          Yes        Private   \n",
              "4     Female   79             1              0          Yes  Self-employed   \n",
              "5       Male   81             0              0          Yes        Private   \n",
              "...      ...  ...           ...            ...          ...            ...   \n",
              "5104  Female   13             0              0           No       children   \n",
              "5106  Female   81             0              0          Yes  Self-employed   \n",
              "5107  Female   35             0              0          Yes  Self-employed   \n",
              "5108    Male   51             0              0          Yes        Private   \n",
              "5109  Female   44             0              0          Yes       Govt_job   \n",
              "\n",
              "     Residence_type  avg_glucose_level   bmi   smoking_status  stroke  \n",
              "0             Urban             228.69  36.6  formerly smoked       1  \n",
              "2             Rural             105.92  32.5     never smoked       1  \n",
              "3             Urban             171.23  34.4           smokes       1  \n",
              "4             Rural             174.12  24.0     never smoked       1  \n",
              "5             Urban             186.21  29.0  formerly smoked       1  \n",
              "...             ...                ...   ...              ...     ...  \n",
              "5104          Rural             103.08  18.6          Unknown       0  \n",
              "5106          Urban             125.20  40.0     never smoked       0  \n",
              "5107          Rural              82.99  30.6     never smoked       0  \n",
              "5108          Rural             166.29  25.6  formerly smoked       0  \n",
              "5109          Urban              85.28  26.2          Unknown       0  \n",
              "\n",
              "[4905 rows x 11 columns]"
            ]
          },
          "metadata": {},
          "output_type": "display_data"
        }
      ],
      "source": [
        "display(stroke_df[stroke_df['bmi']<12])\n",
        "\n",
        "#These bmi values are dangerouly low, resulting in organ-failures, life threatening. \n",
        "#Thus, assuming that these were entered incorrectly, & dropping these entries too.\n",
        "\n",
        "stroke_df=stroke_df[stroke_df['bmi']>12]\n",
        "display(stroke_df)"
      ]
    },
    {
      "cell_type": "markdown",
      "metadata": {
        "id": "yLvkTB44KPDp"
      },
      "source": [
        "#### Creating dataset having patients with stroke only\n",
        "\n",
        "This sub dataset will be helpful in analysing the reasons of having stroke"
      ]
    },
    {
      "cell_type": "code",
      "execution_count": null,
      "metadata": {
        "id": "iZ3LE-1QKPDp",
        "outputId": "c536018d-0cb4-4e58-947d-29e80a6387d0"
      },
      "outputs": [
        {
          "data": {
            "text/html": [
              "<div>\n",
              "<style scoped>\n",
              "    .dataframe tbody tr th:only-of-type {\n",
              "        vertical-align: middle;\n",
              "    }\n",
              "\n",
              "    .dataframe tbody tr th {\n",
              "        vertical-align: top;\n",
              "    }\n",
              "\n",
              "    .dataframe thead th {\n",
              "        text-align: right;\n",
              "    }\n",
              "</style>\n",
              "<table border=\"1\" class=\"dataframe\">\n",
              "  <thead>\n",
              "    <tr style=\"text-align: right;\">\n",
              "      <th></th>\n",
              "      <th>gender</th>\n",
              "      <th>age</th>\n",
              "      <th>hypertension</th>\n",
              "      <th>heart_disease</th>\n",
              "      <th>ever_married</th>\n",
              "      <th>work_type</th>\n",
              "      <th>Residence_type</th>\n",
              "      <th>avg_glucose_level</th>\n",
              "      <th>bmi</th>\n",
              "      <th>smoking_status</th>\n",
              "      <th>stroke</th>\n",
              "    </tr>\n",
              "  </thead>\n",
              "  <tbody>\n",
              "    <tr>\n",
              "      <th>0</th>\n",
              "      <td>Male</td>\n",
              "      <td>67</td>\n",
              "      <td>0</td>\n",
              "      <td>1</td>\n",
              "      <td>Yes</td>\n",
              "      <td>Private</td>\n",
              "      <td>Urban</td>\n",
              "      <td>228.69</td>\n",
              "      <td>36.6</td>\n",
              "      <td>formerly smoked</td>\n",
              "      <td>1</td>\n",
              "    </tr>\n",
              "    <tr>\n",
              "      <th>2</th>\n",
              "      <td>Male</td>\n",
              "      <td>80</td>\n",
              "      <td>0</td>\n",
              "      <td>1</td>\n",
              "      <td>Yes</td>\n",
              "      <td>Private</td>\n",
              "      <td>Rural</td>\n",
              "      <td>105.92</td>\n",
              "      <td>32.5</td>\n",
              "      <td>never smoked</td>\n",
              "      <td>1</td>\n",
              "    </tr>\n",
              "    <tr>\n",
              "      <th>3</th>\n",
              "      <td>Female</td>\n",
              "      <td>49</td>\n",
              "      <td>0</td>\n",
              "      <td>0</td>\n",
              "      <td>Yes</td>\n",
              "      <td>Private</td>\n",
              "      <td>Urban</td>\n",
              "      <td>171.23</td>\n",
              "      <td>34.4</td>\n",
              "      <td>smokes</td>\n",
              "      <td>1</td>\n",
              "    </tr>\n",
              "    <tr>\n",
              "      <th>4</th>\n",
              "      <td>Female</td>\n",
              "      <td>79</td>\n",
              "      <td>1</td>\n",
              "      <td>0</td>\n",
              "      <td>Yes</td>\n",
              "      <td>Self-employed</td>\n",
              "      <td>Rural</td>\n",
              "      <td>174.12</td>\n",
              "      <td>24.0</td>\n",
              "      <td>never smoked</td>\n",
              "      <td>1</td>\n",
              "    </tr>\n",
              "    <tr>\n",
              "      <th>5</th>\n",
              "      <td>Male</td>\n",
              "      <td>81</td>\n",
              "      <td>0</td>\n",
              "      <td>0</td>\n",
              "      <td>Yes</td>\n",
              "      <td>Private</td>\n",
              "      <td>Urban</td>\n",
              "      <td>186.21</td>\n",
              "      <td>29.0</td>\n",
              "      <td>formerly smoked</td>\n",
              "      <td>1</td>\n",
              "    </tr>\n",
              "    <tr>\n",
              "      <th>...</th>\n",
              "      <td>...</td>\n",
              "      <td>...</td>\n",
              "      <td>...</td>\n",
              "      <td>...</td>\n",
              "      <td>...</td>\n",
              "      <td>...</td>\n",
              "      <td>...</td>\n",
              "      <td>...</td>\n",
              "      <td>...</td>\n",
              "      <td>...</td>\n",
              "      <td>...</td>\n",
              "    </tr>\n",
              "    <tr>\n",
              "      <th>243</th>\n",
              "      <td>Female</td>\n",
              "      <td>68</td>\n",
              "      <td>1</td>\n",
              "      <td>1</td>\n",
              "      <td>Yes</td>\n",
              "      <td>Private</td>\n",
              "      <td>Urban</td>\n",
              "      <td>247.51</td>\n",
              "      <td>40.5</td>\n",
              "      <td>formerly smoked</td>\n",
              "      <td>1</td>\n",
              "    </tr>\n",
              "    <tr>\n",
              "      <th>244</th>\n",
              "      <td>Male</td>\n",
              "      <td>57</td>\n",
              "      <td>0</td>\n",
              "      <td>0</td>\n",
              "      <td>Yes</td>\n",
              "      <td>Private</td>\n",
              "      <td>Rural</td>\n",
              "      <td>84.96</td>\n",
              "      <td>36.7</td>\n",
              "      <td>Unknown</td>\n",
              "      <td>1</td>\n",
              "    </tr>\n",
              "    <tr>\n",
              "      <th>245</th>\n",
              "      <td>Female</td>\n",
              "      <td>14</td>\n",
              "      <td>0</td>\n",
              "      <td>0</td>\n",
              "      <td>No</td>\n",
              "      <td>children</td>\n",
              "      <td>Rural</td>\n",
              "      <td>57.93</td>\n",
              "      <td>30.9</td>\n",
              "      <td>Unknown</td>\n",
              "      <td>1</td>\n",
              "    </tr>\n",
              "    <tr>\n",
              "      <th>246</th>\n",
              "      <td>Female</td>\n",
              "      <td>75</td>\n",
              "      <td>0</td>\n",
              "      <td>0</td>\n",
              "      <td>Yes</td>\n",
              "      <td>Self-employed</td>\n",
              "      <td>Rural</td>\n",
              "      <td>78.80</td>\n",
              "      <td>29.3</td>\n",
              "      <td>formerly smoked</td>\n",
              "      <td>1</td>\n",
              "    </tr>\n",
              "    <tr>\n",
              "      <th>248</th>\n",
              "      <td>Female</td>\n",
              "      <td>78</td>\n",
              "      <td>0</td>\n",
              "      <td>0</td>\n",
              "      <td>Yes</td>\n",
              "      <td>Private</td>\n",
              "      <td>Rural</td>\n",
              "      <td>78.81</td>\n",
              "      <td>19.6</td>\n",
              "      <td>Unknown</td>\n",
              "      <td>1</td>\n",
              "    </tr>\n",
              "  </tbody>\n",
              "</table>\n",
              "<p>209 rows × 11 columns</p>\n",
              "</div>"
            ],
            "text/plain": [
              "     gender  age  hypertension  heart_disease ever_married      work_type  \\\n",
              "0      Male   67             0              1          Yes        Private   \n",
              "2      Male   80             0              1          Yes        Private   \n",
              "3    Female   49             0              0          Yes        Private   \n",
              "4    Female   79             1              0          Yes  Self-employed   \n",
              "5      Male   81             0              0          Yes        Private   \n",
              "..      ...  ...           ...            ...          ...            ...   \n",
              "243  Female   68             1              1          Yes        Private   \n",
              "244    Male   57             0              0          Yes        Private   \n",
              "245  Female   14             0              0           No       children   \n",
              "246  Female   75             0              0          Yes  Self-employed   \n",
              "248  Female   78             0              0          Yes        Private   \n",
              "\n",
              "    Residence_type  avg_glucose_level   bmi   smoking_status  stroke  \n",
              "0            Urban             228.69  36.6  formerly smoked       1  \n",
              "2            Rural             105.92  32.5     never smoked       1  \n",
              "3            Urban             171.23  34.4           smokes       1  \n",
              "4            Rural             174.12  24.0     never smoked       1  \n",
              "5            Urban             186.21  29.0  formerly smoked       1  \n",
              "..             ...                ...   ...              ...     ...  \n",
              "243          Urban             247.51  40.5  formerly smoked       1  \n",
              "244          Rural              84.96  36.7          Unknown       1  \n",
              "245          Rural              57.93  30.9          Unknown       1  \n",
              "246          Rural              78.80  29.3  formerly smoked       1  \n",
              "248          Rural              78.81  19.6          Unknown       1  \n",
              "\n",
              "[209 rows x 11 columns]"
            ]
          },
          "metadata": {},
          "output_type": "display_data"
        },
        {
          "data": {
            "text/html": [
              "<div>\n",
              "<style scoped>\n",
              "    .dataframe tbody tr th:only-of-type {\n",
              "        vertical-align: middle;\n",
              "    }\n",
              "\n",
              "    .dataframe tbody tr th {\n",
              "        vertical-align: top;\n",
              "    }\n",
              "\n",
              "    .dataframe thead th {\n",
              "        text-align: right;\n",
              "    }\n",
              "</style>\n",
              "<table border=\"1\" class=\"dataframe\">\n",
              "  <thead>\n",
              "    <tr style=\"text-align: right;\">\n",
              "      <th></th>\n",
              "      <th>gender</th>\n",
              "      <th>age</th>\n",
              "      <th>hypertension</th>\n",
              "      <th>heart_disease</th>\n",
              "      <th>ever_married</th>\n",
              "      <th>work_type</th>\n",
              "      <th>Residence_type</th>\n",
              "      <th>avg_glucose_level</th>\n",
              "      <th>bmi</th>\n",
              "      <th>smoking_status</th>\n",
              "      <th>stroke</th>\n",
              "    </tr>\n",
              "  </thead>\n",
              "  <tbody>\n",
              "    <tr>\n",
              "      <th>249</th>\n",
              "      <td>Male</td>\n",
              "      <td>3</td>\n",
              "      <td>0</td>\n",
              "      <td>0</td>\n",
              "      <td>No</td>\n",
              "      <td>children</td>\n",
              "      <td>Rural</td>\n",
              "      <td>95.12</td>\n",
              "      <td>18.0</td>\n",
              "      <td>Unknown</td>\n",
              "      <td>0</td>\n",
              "    </tr>\n",
              "    <tr>\n",
              "      <th>250</th>\n",
              "      <td>Male</td>\n",
              "      <td>58</td>\n",
              "      <td>1</td>\n",
              "      <td>0</td>\n",
              "      <td>Yes</td>\n",
              "      <td>Private</td>\n",
              "      <td>Urban</td>\n",
              "      <td>87.96</td>\n",
              "      <td>39.2</td>\n",
              "      <td>never smoked</td>\n",
              "      <td>0</td>\n",
              "    </tr>\n",
              "    <tr>\n",
              "      <th>251</th>\n",
              "      <td>Female</td>\n",
              "      <td>8</td>\n",
              "      <td>0</td>\n",
              "      <td>0</td>\n",
              "      <td>No</td>\n",
              "      <td>Private</td>\n",
              "      <td>Urban</td>\n",
              "      <td>110.89</td>\n",
              "      <td>17.6</td>\n",
              "      <td>Unknown</td>\n",
              "      <td>0</td>\n",
              "    </tr>\n",
              "    <tr>\n",
              "      <th>252</th>\n",
              "      <td>Female</td>\n",
              "      <td>70</td>\n",
              "      <td>0</td>\n",
              "      <td>0</td>\n",
              "      <td>Yes</td>\n",
              "      <td>Private</td>\n",
              "      <td>Rural</td>\n",
              "      <td>69.04</td>\n",
              "      <td>35.9</td>\n",
              "      <td>formerly smoked</td>\n",
              "      <td>0</td>\n",
              "    </tr>\n",
              "    <tr>\n",
              "      <th>253</th>\n",
              "      <td>Male</td>\n",
              "      <td>14</td>\n",
              "      <td>0</td>\n",
              "      <td>0</td>\n",
              "      <td>No</td>\n",
              "      <td>Never_worked</td>\n",
              "      <td>Rural</td>\n",
              "      <td>161.28</td>\n",
              "      <td>19.1</td>\n",
              "      <td>Unknown</td>\n",
              "      <td>0</td>\n",
              "    </tr>\n",
              "    <tr>\n",
              "      <th>...</th>\n",
              "      <td>...</td>\n",
              "      <td>...</td>\n",
              "      <td>...</td>\n",
              "      <td>...</td>\n",
              "      <td>...</td>\n",
              "      <td>...</td>\n",
              "      <td>...</td>\n",
              "      <td>...</td>\n",
              "      <td>...</td>\n",
              "      <td>...</td>\n",
              "      <td>...</td>\n",
              "    </tr>\n",
              "    <tr>\n",
              "      <th>5104</th>\n",
              "      <td>Female</td>\n",
              "      <td>13</td>\n",
              "      <td>0</td>\n",
              "      <td>0</td>\n",
              "      <td>No</td>\n",
              "      <td>children</td>\n",
              "      <td>Rural</td>\n",
              "      <td>103.08</td>\n",
              "      <td>18.6</td>\n",
              "      <td>Unknown</td>\n",
              "      <td>0</td>\n",
              "    </tr>\n",
              "    <tr>\n",
              "      <th>5106</th>\n",
              "      <td>Female</td>\n",
              "      <td>81</td>\n",
              "      <td>0</td>\n",
              "      <td>0</td>\n",
              "      <td>Yes</td>\n",
              "      <td>Self-employed</td>\n",
              "      <td>Urban</td>\n",
              "      <td>125.20</td>\n",
              "      <td>40.0</td>\n",
              "      <td>never smoked</td>\n",
              "      <td>0</td>\n",
              "    </tr>\n",
              "    <tr>\n",
              "      <th>5107</th>\n",
              "      <td>Female</td>\n",
              "      <td>35</td>\n",
              "      <td>0</td>\n",
              "      <td>0</td>\n",
              "      <td>Yes</td>\n",
              "      <td>Self-employed</td>\n",
              "      <td>Rural</td>\n",
              "      <td>82.99</td>\n",
              "      <td>30.6</td>\n",
              "      <td>never smoked</td>\n",
              "      <td>0</td>\n",
              "    </tr>\n",
              "    <tr>\n",
              "      <th>5108</th>\n",
              "      <td>Male</td>\n",
              "      <td>51</td>\n",
              "      <td>0</td>\n",
              "      <td>0</td>\n",
              "      <td>Yes</td>\n",
              "      <td>Private</td>\n",
              "      <td>Rural</td>\n",
              "      <td>166.29</td>\n",
              "      <td>25.6</td>\n",
              "      <td>formerly smoked</td>\n",
              "      <td>0</td>\n",
              "    </tr>\n",
              "    <tr>\n",
              "      <th>5109</th>\n",
              "      <td>Female</td>\n",
              "      <td>44</td>\n",
              "      <td>0</td>\n",
              "      <td>0</td>\n",
              "      <td>Yes</td>\n",
              "      <td>Govt_job</td>\n",
              "      <td>Urban</td>\n",
              "      <td>85.28</td>\n",
              "      <td>26.2</td>\n",
              "      <td>Unknown</td>\n",
              "      <td>0</td>\n",
              "    </tr>\n",
              "  </tbody>\n",
              "</table>\n",
              "<p>4696 rows × 11 columns</p>\n",
              "</div>"
            ],
            "text/plain": [
              "      gender  age  hypertension  heart_disease ever_married      work_type  \\\n",
              "249     Male    3             0              0           No       children   \n",
              "250     Male   58             1              0          Yes        Private   \n",
              "251   Female    8             0              0           No        Private   \n",
              "252   Female   70             0              0          Yes        Private   \n",
              "253     Male   14             0              0           No   Never_worked   \n",
              "...      ...  ...           ...            ...          ...            ...   \n",
              "5104  Female   13             0              0           No       children   \n",
              "5106  Female   81             0              0          Yes  Self-employed   \n",
              "5107  Female   35             0              0          Yes  Self-employed   \n",
              "5108    Male   51             0              0          Yes        Private   \n",
              "5109  Female   44             0              0          Yes       Govt_job   \n",
              "\n",
              "     Residence_type  avg_glucose_level   bmi   smoking_status  stroke  \n",
              "249           Rural              95.12  18.0          Unknown       0  \n",
              "250           Urban              87.96  39.2     never smoked       0  \n",
              "251           Urban             110.89  17.6          Unknown       0  \n",
              "252           Rural              69.04  35.9  formerly smoked       0  \n",
              "253           Rural             161.28  19.1          Unknown       0  \n",
              "...             ...                ...   ...              ...     ...  \n",
              "5104          Rural             103.08  18.6          Unknown       0  \n",
              "5106          Urban             125.20  40.0     never smoked       0  \n",
              "5107          Rural              82.99  30.6     never smoked       0  \n",
              "5108          Rural             166.29  25.6  formerly smoked       0  \n",
              "5109          Urban              85.28  26.2          Unknown       0  \n",
              "\n",
              "[4696 rows x 11 columns]"
            ]
          },
          "metadata": {},
          "output_type": "display_data"
        }
      ],
      "source": [
        "having_stroke_df=stroke_df[stroke_df['stroke']==1]\n",
        "display(having_stroke_df)\n",
        "\n",
        "not_having_stroke_df=stroke_df[stroke_df['stroke']==0]\n",
        "display(not_having_stroke_df)"
      ]
    },
    {
      "cell_type": "markdown",
      "metadata": {
        "id": "m25sFapuKPDq"
      },
      "source": [
        "## Exploratory Analysis and Visualization"
      ]
    },
    {
      "cell_type": "markdown",
      "metadata": {
        "id": "0PGBUs1gKPDq"
      },
      "source": [
        "Let's begin by importing`matplotlib.pyplot` and `seaborn`."
      ]
    },
    {
      "cell_type": "code",
      "execution_count": null,
      "metadata": {
        "id": "SoxTVX3RKPDq"
      },
      "outputs": [],
      "source": [
        "import seaborn as sns\n",
        "import matplotlib\n",
        "import matplotlib.pyplot as plt\n",
        "%matplotlib inline\n",
        "import numpy as np\n",
        "\n",
        "sns.set_style('darkgrid')\n",
        "matplotlib.rcParams['font.size'] = 14\n",
        "matplotlib.rcParams['figure.figsize'] = (9, 5)\n",
        "matplotlib.rcParams['figure.facecolor'] = '#00000000'"
      ]
    },
    {
      "cell_type": "markdown",
      "metadata": {
        "id": "fRVZHavVKPDr"
      },
      "source": [
        "### Gender Factor"
      ]
    },
    {
      "cell_type": "code",
      "execution_count": null,
      "metadata": {
        "id": "jSMfPHdnKPDr",
        "outputId": "49e9fab4-fbed-4914-f164-92215b14eff5"
      },
      "outputs": [
        {
          "data": {
            "text/plain": [
              "Text(0.5, 1.0, 'Not Having Stroke')"
            ]
          },
          "execution_count": 16,
          "metadata": {},
          "output_type": "execute_result"
        },
        {
          "data": {
            "image/png": "[encoded data removed]",
            "text/plain": [
              "<Figure size 864x432 with 3 Axes>"
            ]
          },
          "metadata": {},
          "output_type": "display_data"
        }
      ],
      "source": [
        "gender_stroke=having_stroke_df.gender.value_counts()\n",
        "figure, axis=plt.subplots(1,3,figsize=(12,6))\n",
        "figure.suptitle(\"Gender Distribution\")\n",
        "axis[0].pie(gender_stroke,labels=gender_stroke.index,autopct ='%.1f%%',startangle=90,explode=[0,0.1])\n",
        "axis[0].set_title(\"Having Stroke\")\n",
        "\n",
        "gender_stroke=stroke_df.gender.value_counts()\n",
        "axis[1].pie(gender_stroke,labels=gender_stroke.index,autopct ='%.1f%%',startangle=90,explode=[0.1,0,0])\n",
        "axis[1].set_title(\"Overall\")\n",
        "\n",
        "gender_stroke=stroke_df[stroke_df['stroke']!=1]\n",
        "gender_stroke=gender_stroke.gender.value_counts()\n",
        "axis[2].pie(gender_stroke,labels=gender_stroke.index,autopct ='%.1f%%',startangle=90,explode=[0.1,0,0])\n",
        "axis[2].set_title(\"Not Having Stroke\")"
      ]
    },
    {
      "cell_type": "markdown",
      "metadata": {
        "id": "2zIhrke2KPDr"
      },
      "source": [
        "The above pie chart initially showed that females have more stroke cases than males. But after a thorough look of overall data that contains non-stroke patients too, it was found that the data is a bit bias towards female. "
      ]
    },
    {
      "cell_type": "markdown",
      "metadata": {
        "id": "4yToKAJYKPDr"
      },
      "source": [
        "### Age Factor"
      ]
    },
    {
      "cell_type": "code",
      "execution_count": null,
      "metadata": {
        "id": "PC-fwpgcKPDs",
        "outputId": "c6c7083a-af67-4d07-ba0b-78ffc5698dd5"
      },
      "outputs": [
        {
          "data": {
            "text/plain": [
              "Text(0.5, 1.0, 'Overall')"
            ]
          },
          "execution_count": 17,
          "metadata": {},
          "output_type": "execute_result"
        },
        {
          "data": {
            "image/png": "[encoded data removed]",
            "text/plain": [
              "<Figure size 648x360 with 1 Axes>"
            ]
          },
          "metadata": {
            "needs_background": "light"
          },
          "output_type": "display_data"
        }
      ],
      "source": [
        "plt.figsize=(20,8)\n",
        "plt.hist(stroke_df.age,bins=np.arange(0,100, 5))\n",
        "plt.xlabel(\"Age (in yrs)\")\n",
        "plt.ylabel(\"No. of patients\")\n",
        "plt.title(\"Overall\")"
      ]
    },
    {
      "cell_type": "code",
      "execution_count": null,
      "metadata": {
        "id": "FKr5raixKPDs",
        "outputId": "689926dd-f041-4ea5-bae5-b22b0e0add53"
      },
      "outputs": [
        {
          "data": {
            "text/plain": [
              "[Text(0.5, 0, 'Age (in yrs)'),\n",
              " Text(0, 0.5, 'No. of patients'),\n",
              " Text(0.5, 1.0, ' Not Having Stroke')]"
            ]
          },
          "execution_count": 18,
          "metadata": {},
          "output_type": "execute_result"
        },
        {
          "data": {
            "image/png": "[encoded data removed]",
            "text/plain": [
              "<Figure size 1440x576 with 2 Axes>"
            ]
          },
          "metadata": {
            "needs_background": "light"
          },
          "output_type": "display_data"
        }
      ],
      "source": [
        "fig,axes=plt.subplots(1,2,figsize=(20,8))\n",
        "\n",
        "axes[0].hist(having_stroke_df.age,bins=np.arange(0,100, 5))\n",
        "axes[0].set(xlabel=\"Age (in yrs)\",ylabel=\"No. of patients\",title=\"Having Stroke\")\n",
        "\n",
        "axes[1].hist(not_having_stroke_df.age,bins=np.arange(0,100, 5))\n",
        "axes[1].set(xlabel=\"Age (in yrs)\",ylabel=\"No. of patients\",title=\" Not Having Stroke\")"
      ]
    },
    {
      "cell_type": "markdown",
      "metadata": {
        "id": "Y5CcQw_ZKPDs"
      },
      "source": [
        "A trend is seen in patients having stroke, as we go on increasing the age. Thus we can infer that with growing age, more are the chances of developing stroke problems"
      ]
    },
    {
      "cell_type": "markdown",
      "metadata": {
        "id": "S4maYiWCKPDt"
      },
      "source": [
        "### Detailed Analysis visualisation"
      ]
    },
    {
      "cell_type": "code",
      "execution_count": null,
      "metadata": {
        "id": "EogV9zjEKPDt",
        "outputId": "389f3602-46e4-44f7-ad99-b7772f2c2b7d"
      },
      "outputs": [
        {
          "data": {
            "text/plain": [
              "<seaborn.axisgrid.PairGrid at 0x7fabf767e610>"
            ]
          },
          "execution_count": 19,
          "metadata": {},
          "output_type": "execute_result"
        },
        {
          "data": {
            "image/png": "[encoded data removed]",
            "text/plain": [
              "<Figure size 1080x1080 with 42 Axes>"
            ]
          },
          "metadata": {
            "needs_background": "light"
          },
          "output_type": "display_data"
        }
      ],
      "source": [
        "sns.pairplot(having_stroke_df)"
      ]
    },
    {
      "cell_type": "markdown",
      "metadata": {
        "id": "07M_RLyOKPDt"
      },
      "source": [
        "### HyperTension"
      ]
    },
    {
      "cell_type": "code",
      "execution_count": null,
      "metadata": {
        "id": "ZV8UxjzSKPDt",
        "outputId": "895b3396-154d-4935-879a-b930743352ff"
      },
      "outputs": [
        {
          "data": {
            "text/plain": [
              "<seaborn.axisgrid.FacetGrid at 0x7fabf6159f70>"
            ]
          },
          "execution_count": 20,
          "metadata": {},
          "output_type": "execute_result"
        },
        {
          "data": {
            "image/png": "[encoded data removed]",
            "text/plain": [
              "<Figure size 821.15x360 with 2 Axes>"
            ]
          },
          "metadata": {
            "needs_background": "light"
          },
          "output_type": "display_data"
        }
      ],
      "source": [
        "sns.catplot(x=\"hypertension\",hue=\"gender\",col=\"stroke\",\n",
        "           data=stroke_df,kind=\"count\")"
      ]
    },
    {
      "cell_type": "markdown",
      "metadata": {
        "id": "WI89Ph76KPDt"
      },
      "source": [
        "Cases of hypertension have been reported more in females as compared to males. It might also be due to data-bias. The data shows that people who did not develop stroke have also had lesser occurences of hypertension."
      ]
    },
    {
      "cell_type": "markdown",
      "metadata": {
        "id": "TGfq1g-eKPDu"
      },
      "source": [
        "### BMI"
      ]
    },
    {
      "cell_type": "code",
      "execution_count": null,
      "metadata": {
        "id": "fVYlQ_4BKPDu",
        "outputId": "b616c2e9-8bf5-4a4f-a975-c217789ad32f"
      },
      "outputs": [
        {
          "name": "stderr",
          "output_type": "stream",
          "text": [
            "/opt/conda/lib/python3.9/site-packages/seaborn/_decorators.py:36: FutureWarning: Pass the following variable as a keyword arg: x. From version 0.12, the only valid positional argument will be `data`, and passing other arguments without an explicit keyword will result in an error or misinterpretation.\n",
            "  warnings.warn(\n"
          ]
        },
        {
          "data": {
            "text/plain": [
              "<AxesSubplot:xlabel='bmi'>"
            ]
          },
          "execution_count": 21,
          "metadata": {},
          "output_type": "execute_result"
        },
        {
          "data": {
            "image/png": "[encoded data removed]",
            "text/plain": [
              "<Figure size 648x360 with 1 Axes>"
            ]
          },
          "metadata": {
            "needs_background": "light"
          },
          "output_type": "display_data"
        }
      ],
      "source": [
        "sns.boxplot(having_stroke_df['bmi'])"
      ]
    },
    {
      "cell_type": "code",
      "execution_count": null,
      "metadata": {
        "id": "qAo0O0K6KPDu",
        "outputId": "4fa9ce33-483e-4f6c-edef-937ddd8c62e0"
      },
      "outputs": [
        {
          "data": {
            "text/plain": [
              "<seaborn.axisgrid.FacetGrid at 0x7fabf74f1850>"
            ]
          },
          "execution_count": 22,
          "metadata": {},
          "output_type": "execute_result"
        },
        {
          "data": {
            "image/png": "[encoded data removed]",
            "text/plain": [
              "<Figure size 360x360 with 1 Axes>"
            ]
          },
          "metadata": {
            "needs_background": "light"
          },
          "output_type": "display_data"
        }
      ],
      "source": [
        "sns.displot(data=having_stroke_df,x=\"bmi\",kde=True)"
      ]
    },
    {
      "cell_type": "markdown",
      "metadata": {
        "id": "Am3tdQ6-KPDu"
      },
      "source": [
        "Majority of the Stroke cases have BMI greater than 27, which generally comes under the category of obese & under-weight. "
      ]
    },
    {
      "cell_type": "markdown",
      "metadata": {
        "id": "ad1wUL1GKPDv"
      },
      "source": [
        "### Avg. Glucose Level."
      ]
    },
    {
      "cell_type": "code",
      "execution_count": null,
      "metadata": {
        "id": "4gY_mpn1KPDv",
        "outputId": "2acef16a-8536-4eb2-ea2e-e83e0d29b6d7"
      },
      "outputs": [
        {
          "data": {
            "text/plain": [
              "<seaborn.axisgrid.FacetGrid at 0x7fabf609ffa0>"
            ]
          },
          "execution_count": 23,
          "metadata": {},
          "output_type": "execute_result"
        },
        {
          "data": {
            "image/png": "[encoded data removed]",
            "text/plain": [
              "<Figure size 360x360 with 1 Axes>"
            ]
          },
          "metadata": {
            "needs_background": "light"
          },
          "output_type": "display_data"
        }
      ],
      "source": [
        "sns.displot(data=having_stroke_df,x=\"avg_glucose_level\",kde=True)"
      ]
    },
    {
      "cell_type": "markdown",
      "metadata": {
        "id": "3fGb_H5QKPDv"
      },
      "source": [
        "The below charts infer that abnormal range of glucose results in stroke. Either a very deficient in sugar/glucose results in more stroke conditions, or high diabetes conditions."
      ]
    },
    {
      "cell_type": "markdown",
      "metadata": {
        "id": "8e1VbQ8yKPDv"
      },
      "source": [
        "### Emotional/Social Analysis of Patients having Stroke"
      ]
    },
    {
      "cell_type": "code",
      "execution_count": null,
      "metadata": {
        "id": "4LqTMx2JKPDv",
        "outputId": "3a9f30f8-d5fd-4331-8625-207533a8c093"
      },
      "outputs": [
        {
          "data": {
            "text/plain": [
              "Private          127\n",
              "Self-employed     53\n",
              "Govt_job          28\n",
              "children           1\n",
              "Name: work_type, dtype: int64"
            ]
          },
          "metadata": {},
          "output_type": "display_data"
        },
        {
          "data": {
            "text/plain": [
              "Text(0.5, 1.0, 'Marital Status')"
            ]
          },
          "execution_count": 24,
          "metadata": {},
          "output_type": "execute_result"
        },
        {
          "data": {
            "image/png": "[encoded data removed]",
            "text/plain": [
              "<Figure size 1440x720 with 4 Axes>"
            ]
          },
          "metadata": {
            "needs_background": "light"
          },
          "output_type": "display_data"
        }
      ],
      "source": [
        "fig,axes = plt.subplots(2,2,figsize=(20,10))\n",
        "fig.suptitle(\"Emotional/Social Analysis of Patients having Stroke\")\n",
        "work_stroke=having_stroke_df.work_type.value_counts()\n",
        "display(work_stroke)\n",
        "axes[0,0].pie(work_stroke,labels=work_stroke.index,autopct ='%.1f%%',startangle=90,explode=[0.1,0.1,0,0.1])\n",
        "axes[0,0].set_title(\"Work Type\")\n",
        "\n",
        "residence_stroke=having_stroke_df.Residence_type.value_counts()\n",
        "axes[0,1].pie(residence_stroke,labels=residence_stroke.index,autopct ='%.1f%%',startangle=90,explode=[0.1,0])\n",
        "axes[0,1].set_title(\"Residence Type\")\n",
        "\n",
        "marital_stroke=having_stroke_df.ever_married.value_counts()\n",
        "axes[1,0].pie(marital_stroke,labels=marital_stroke.index,autopct ='%.1f%%',startangle=90,explode=[0.1,0])\n",
        "axes[1,0].set_title(\"Marital Status\")"
      ]
    },
    {
      "cell_type": "markdown",
      "metadata": {
        "id": "iXdKDrdwKPDw"
      },
      "source": [
        "In this we start to also look for social & emotional factors that might have resulted in stroke. On combining the visualisation we can say that generally, the people living in urban areas, going for a private job & having a married life results in stroke conditions. A reason for this might be the extreme busy life due to these conditions resulting in hypertension & other required factors. \n",
        "  One data we also see is the contribution of rural areas, but typically they do not have an involvement in private work. Then we need to look for some other parameters for the contribution of people from rural background."
      ]
    },
    {
      "cell_type": "markdown",
      "metadata": {
        "id": "VcrGjtSTKPDw"
      },
      "source": [
        "## Asking and Answering Questions\n",
        "\n"
      ]
    },
    {
      "cell_type": "markdown",
      "metadata": {
        "id": "6G4cT2RTKPDw"
      },
      "source": [
        "#### Q1: What does the data look like? How many stroke patients are there, and what is the age & gender classification?"
      ]
    },
    {
      "cell_type": "code",
      "execution_count": null,
      "metadata": {
        "id": "gT6QpT7TKPDx",
        "outputId": "4abebaee-a77c-47b8-f678-40e98d90afbf"
      },
      "outputs": [
        {
          "name": "stdout",
          "output_type": "stream",
          "text": [
            "Total number of people participating in data are 4905\n",
            "Out of them stroke patients are: 209\n"
          ]
        }
      ],
      "source": [
        "print(\"Total number of people participating in data are {}\".format(stroke_df.shape[0]))\n",
        "print(\"Out of them stroke patients are: {}\".format(having_stroke_df.shape[0]))"
      ]
    },
    {
      "cell_type": "code",
      "execution_count": null,
      "metadata": {
        "id": "EA0CTN69KPDx",
        "outputId": "d6d234ea-d54d-4cb1-a639-3a96d8d9d01b"
      },
      "outputs": [
        {
          "name": "stdout",
          "output_type": "stream",
          "text": [
            "There are 89 male & 120 female stroke patients\n"
          ]
        }
      ],
      "source": [
        "male=having_stroke_df[having_stroke_df['gender']=='Male'].count().gender\n",
        "female=having_stroke_df[having_stroke_df['gender']=='Female'].count().gender\n",
        "print(f\"There are {male} male & {female} female stroke patients\")"
      ]
    },
    {
      "cell_type": "code",
      "execution_count": null,
      "metadata": {
        "id": "V8aJfMWsKPDx",
        "outputId": "f74858f0-c7dd-4c7d-dd41-0cd0bc381f3d"
      },
      "outputs": [
        {
          "name": "stdout",
          "output_type": "stream",
          "text": [
            "The age classification is :\n"
          ]
        },
        {
          "data": {
            "text/plain": [
              "(70.0, 80.0]    81\n",
              "(50.0, 60.0]    42\n",
              "(60.0, 70.0]    42\n",
              "(80.0, inf]     23\n",
              "(40.0, 50.0]    15\n",
              "(30.0, 40.0]     5\n",
              "(10.0, 20.0]     1\n",
              "(0.0, 10.0]      0\n",
              "(20.0, 30.0]     0\n",
              "Name: age, dtype: int64"
            ]
          },
          "metadata": {},
          "output_type": "display_data"
        }
      ],
      "source": [
        "print(\"The age classification is :\")\n",
        "display(pd.cut(having_stroke_df['age'],bins=[0,10,20,30,40,50,60,70,80,np.inf]).value_counts())"
      ]
    },
    {
      "cell_type": "markdown",
      "metadata": {
        "id": "hlf4-L0iKPDx"
      },
      "source": [
        "#### Q2: How many patients are there who have hypertension & heartdisease, while having stroke"
      ]
    },
    {
      "cell_type": "code",
      "execution_count": null,
      "metadata": {
        "id": "n8wbxEjeKPDy",
        "outputId": "df6a248a-3ee7-4750-93e7-a0ad38aa38d7"
      },
      "outputs": [
        {
          "name": "stdout",
          "output_type": "stream",
          "text": [
            "No. of patients having hypertension & heart-disease along with stroke are: 11\n"
          ]
        }
      ],
      "source": [
        "hyper_heart=having_stroke_df[(having_stroke_df['hypertension']==1) & (having_stroke_df['heart_disease']==1)].count().hypertension\n",
        "print(f\"No. of patients having hypertension & heart-disease along with stroke are: {hyper_heart}\")"
      ]
    },
    {
      "cell_type": "code",
      "execution_count": null,
      "metadata": {
        "id": "L-ifwHAQKPDy",
        "outputId": "c737c828-da11-4123-b738-70d55c587aa5"
      },
      "outputs": [
        {
          "name": "stdout",
          "output_type": "stream",
          "text": [
            "No. of patients just having hypertension & NOT heart-disease along with stroke are: 49\n"
          ]
        }
      ],
      "source": [
        "hyper_heart=having_stroke_df[(having_stroke_df['hypertension']==1) & (having_stroke_df['heart_disease']==0)].count().hypertension\n",
        "print(f\"No. of patients just having hypertension & NOT heart-disease along with stroke are: {hyper_heart}\")"
      ]
    },
    {
      "cell_type": "code",
      "execution_count": null,
      "metadata": {
        "id": "wl4W1WOkKPDz",
        "outputId": "e5ec27c2-17a6-47f7-be9d-df92c6c78acc"
      },
      "outputs": [
        {
          "name": "stdout",
          "output_type": "stream",
          "text": [
            "No. of patients having NO hypertension & just heart-disease along with stroke are: 29\n"
          ]
        }
      ],
      "source": [
        "hyper_heart=having_stroke_df[(having_stroke_df['hypertension']==0) & (having_stroke_df['heart_disease']==1)].count().hypertension\n",
        "print(f\"No. of patients having NO hypertension & just heart-disease along with stroke are: {hyper_heart}\")"
      ]
    },
    {
      "cell_type": "markdown",
      "metadata": {
        "id": "guAsZaXJKPDz"
      },
      "source": [
        "#### Q3: What percentage of stroke patients are diabetic?"
      ]
    },
    {
      "cell_type": "code",
      "execution_count": null,
      "metadata": {
        "id": "_vV2X1HqKPDz",
        "outputId": "d3129c8c-1adb-4d6f-f217-4c714d9c7d05"
      },
      "outputs": [
        {
          "name": "stdout",
          "output_type": "stream",
          "text": [
            "23.444976076555022% stroke patients have diabetes\n"
          ]
        }
      ],
      "source": [
        "having_diab=having_stroke_df[having_stroke_df['avg_glucose_level']>200].count().avg_glucose_level\n",
        "print(\"{}% stroke patients have diabetes\".format((having_diab/(having_stroke_df.shape[0])*100)))"
      ]
    },
    {
      "cell_type": "code",
      "execution_count": null,
      "metadata": {
        "id": "lrlnunmpKPDz",
        "outputId": "5d1cbe0b-3972-45c9-ecba-505f5e2c67d9"
      },
      "outputs": [
        {
          "name": "stdout",
          "output_type": "stream",
          "text": [
            "14.832535885167463% stroke patients have pre-diabetes\n"
          ]
        }
      ],
      "source": [
        "having_diab=having_stroke_df[(having_stroke_df['avg_glucose_level']>140) & (having_stroke_df['avg_glucose_level']<200)].count().avg_glucose_level\n",
        "print(\"{}% stroke patients have pre-diabetes\".format((having_diab/(having_stroke_df.shape[0])*100)))"
      ]
    },
    {
      "cell_type": "markdown",
      "metadata": {
        "id": "xn_vXuLwKPD0"
      },
      "source": [
        "#### Q4: How many stroke patients are obese or underweight??"
      ]
    },
    {
      "cell_type": "code",
      "execution_count": null,
      "metadata": {
        "id": "W6hljERgKPD1",
        "outputId": "5f7f3fc6-6e0d-4e61-81bb-9ebc3f1363e6"
      },
      "outputs": [
        {
          "data": {
            "text/html": [
              "<div>\n",
              "<style scoped>\n",
              "    .dataframe tbody tr th:only-of-type {\n",
              "        vertical-align: middle;\n",
              "    }\n",
              "\n",
              "    .dataframe tbody tr th {\n",
              "        vertical-align: top;\n",
              "    }\n",
              "\n",
              "    .dataframe thead th {\n",
              "        text-align: right;\n",
              "    }\n",
              "</style>\n",
              "<table border=\"1\" class=\"dataframe\">\n",
              "  <thead>\n",
              "    <tr style=\"text-align: right;\">\n",
              "      <th></th>\n",
              "      <th>gender</th>\n",
              "      <th>age</th>\n",
              "      <th>hypertension</th>\n",
              "      <th>heart_disease</th>\n",
              "      <th>ever_married</th>\n",
              "      <th>work_type</th>\n",
              "      <th>Residence_type</th>\n",
              "      <th>avg_glucose_level</th>\n",
              "      <th>bmi</th>\n",
              "      <th>smoking_status</th>\n",
              "      <th>stroke</th>\n",
              "    </tr>\n",
              "  </thead>\n",
              "  <tbody>\n",
              "    <tr>\n",
              "      <th>0</th>\n",
              "      <td>Male</td>\n",
              "      <td>67</td>\n",
              "      <td>0</td>\n",
              "      <td>1</td>\n",
              "      <td>Yes</td>\n",
              "      <td>Private</td>\n",
              "      <td>Urban</td>\n",
              "      <td>228.69</td>\n",
              "      <td>36.6</td>\n",
              "      <td>formerly smoked</td>\n",
              "      <td>1</td>\n",
              "    </tr>\n",
              "    <tr>\n",
              "      <th>2</th>\n",
              "      <td>Male</td>\n",
              "      <td>80</td>\n",
              "      <td>0</td>\n",
              "      <td>1</td>\n",
              "      <td>Yes</td>\n",
              "      <td>Private</td>\n",
              "      <td>Rural</td>\n",
              "      <td>105.92</td>\n",
              "      <td>32.5</td>\n",
              "      <td>never smoked</td>\n",
              "      <td>1</td>\n",
              "    </tr>\n",
              "    <tr>\n",
              "      <th>3</th>\n",
              "      <td>Female</td>\n",
              "      <td>49</td>\n",
              "      <td>0</td>\n",
              "      <td>0</td>\n",
              "      <td>Yes</td>\n",
              "      <td>Private</td>\n",
              "      <td>Urban</td>\n",
              "      <td>171.23</td>\n",
              "      <td>34.4</td>\n",
              "      <td>smokes</td>\n",
              "      <td>1</td>\n",
              "    </tr>\n",
              "    <tr>\n",
              "      <th>4</th>\n",
              "      <td>Female</td>\n",
              "      <td>79</td>\n",
              "      <td>1</td>\n",
              "      <td>0</td>\n",
              "      <td>Yes</td>\n",
              "      <td>Self-employed</td>\n",
              "      <td>Rural</td>\n",
              "      <td>174.12</td>\n",
              "      <td>24.0</td>\n",
              "      <td>never smoked</td>\n",
              "      <td>1</td>\n",
              "    </tr>\n",
              "    <tr>\n",
              "      <th>5</th>\n",
              "      <td>Male</td>\n",
              "      <td>81</td>\n",
              "      <td>0</td>\n",
              "      <td>0</td>\n",
              "      <td>Yes</td>\n",
              "      <td>Private</td>\n",
              "      <td>Urban</td>\n",
              "      <td>186.21</td>\n",
              "      <td>29.0</td>\n",
              "      <td>formerly smoked</td>\n",
              "      <td>1</td>\n",
              "    </tr>\n",
              "    <tr>\n",
              "      <th>...</th>\n",
              "      <td>...</td>\n",
              "      <td>...</td>\n",
              "      <td>...</td>\n",
              "      <td>...</td>\n",
              "      <td>...</td>\n",
              "      <td>...</td>\n",
              "      <td>...</td>\n",
              "      <td>...</td>\n",
              "      <td>...</td>\n",
              "      <td>...</td>\n",
              "      <td>...</td>\n",
              "    </tr>\n",
              "    <tr>\n",
              "      <th>243</th>\n",
              "      <td>Female</td>\n",
              "      <td>68</td>\n",
              "      <td>1</td>\n",
              "      <td>1</td>\n",
              "      <td>Yes</td>\n",
              "      <td>Private</td>\n",
              "      <td>Urban</td>\n",
              "      <td>247.51</td>\n",
              "      <td>40.5</td>\n",
              "      <td>formerly smoked</td>\n",
              "      <td>1</td>\n",
              "    </tr>\n",
              "    <tr>\n",
              "      <th>244</th>\n",
              "      <td>Male</td>\n",
              "      <td>57</td>\n",
              "      <td>0</td>\n",
              "      <td>0</td>\n",
              "      <td>Yes</td>\n",
              "      <td>Private</td>\n",
              "      <td>Rural</td>\n",
              "      <td>84.96</td>\n",
              "      <td>36.7</td>\n",
              "      <td>Unknown</td>\n",
              "      <td>1</td>\n",
              "    </tr>\n",
              "    <tr>\n",
              "      <th>245</th>\n",
              "      <td>Female</td>\n",
              "      <td>14</td>\n",
              "      <td>0</td>\n",
              "      <td>0</td>\n",
              "      <td>No</td>\n",
              "      <td>children</td>\n",
              "      <td>Rural</td>\n",
              "      <td>57.93</td>\n",
              "      <td>30.9</td>\n",
              "      <td>Unknown</td>\n",
              "      <td>1</td>\n",
              "    </tr>\n",
              "    <tr>\n",
              "      <th>246</th>\n",
              "      <td>Female</td>\n",
              "      <td>75</td>\n",
              "      <td>0</td>\n",
              "      <td>0</td>\n",
              "      <td>Yes</td>\n",
              "      <td>Self-employed</td>\n",
              "      <td>Rural</td>\n",
              "      <td>78.80</td>\n",
              "      <td>29.3</td>\n",
              "      <td>formerly smoked</td>\n",
              "      <td>1</td>\n",
              "    </tr>\n",
              "    <tr>\n",
              "      <th>248</th>\n",
              "      <td>Female</td>\n",
              "      <td>78</td>\n",
              "      <td>0</td>\n",
              "      <td>0</td>\n",
              "      <td>Yes</td>\n",
              "      <td>Private</td>\n",
              "      <td>Rural</td>\n",
              "      <td>78.81</td>\n",
              "      <td>19.6</td>\n",
              "      <td>Unknown</td>\n",
              "      <td>1</td>\n",
              "    </tr>\n",
              "  </tbody>\n",
              "</table>\n",
              "<p>209 rows × 11 columns</p>\n",
              "</div>"
            ],
            "text/plain": [
              "     gender  age  hypertension  heart_disease ever_married      work_type  \\\n",
              "0      Male   67             0              1          Yes        Private   \n",
              "2      Male   80             0              1          Yes        Private   \n",
              "3    Female   49             0              0          Yes        Private   \n",
              "4    Female   79             1              0          Yes  Self-employed   \n",
              "5      Male   81             0              0          Yes        Private   \n",
              "..      ...  ...           ...            ...          ...            ...   \n",
              "243  Female   68             1              1          Yes        Private   \n",
              "244    Male   57             0              0          Yes        Private   \n",
              "245  Female   14             0              0           No       children   \n",
              "246  Female   75             0              0          Yes  Self-employed   \n",
              "248  Female   78             0              0          Yes        Private   \n",
              "\n",
              "    Residence_type  avg_glucose_level   bmi   smoking_status  stroke  \n",
              "0            Urban             228.69  36.6  formerly smoked       1  \n",
              "2            Rural             105.92  32.5     never smoked       1  \n",
              "3            Urban             171.23  34.4           smokes       1  \n",
              "4            Rural             174.12  24.0     never smoked       1  \n",
              "5            Urban             186.21  29.0  formerly smoked       1  \n",
              "..             ...                ...   ...              ...     ...  \n",
              "243          Urban             247.51  40.5  formerly smoked       1  \n",
              "244          Rural              84.96  36.7          Unknown       1  \n",
              "245          Rural              57.93  30.9          Unknown       1  \n",
              "246          Rural              78.80  29.3  formerly smoked       1  \n",
              "248          Rural              78.81  19.6          Unknown       1  \n",
              "\n",
              "[209 rows x 11 columns]"
            ]
          },
          "execution_count": 33,
          "metadata": {},
          "output_type": "execute_result"
        }
      ],
      "source": [
        "having_stroke_df"
      ]
    },
    {
      "cell_type": "code",
      "execution_count": null,
      "metadata": {
        "id": "ywGwR4bjKPD1",
        "outputId": "9a98160d-5051-483f-c851-e1e336ab2aad"
      },
      "outputs": [
        {
          "name": "stdout",
          "output_type": "stream",
          "text": [
            "0.4784688995215311% stroke patients are under-weight\n"
          ]
        }
      ],
      "source": [
        "having_diab=having_stroke_df[having_stroke_df['bmi']<18.5].count().bmi\n",
        "print(\"{}% stroke patients are under-weight\".format((having_diab/(having_stroke_df.shape[0])*100)))"
      ]
    },
    {
      "cell_type": "code",
      "execution_count": null,
      "metadata": {
        "id": "h8AY0c3sKPD1",
        "outputId": "a00476ab-b862-4a78-c8b2-08d59e11ec89"
      },
      "outputs": [
        {
          "name": "stdout",
          "output_type": "stream",
          "text": [
            "45.933014354066984% stroke patients are obese\n"
          ]
        }
      ],
      "source": [
        "having_diab=having_stroke_df[having_stroke_df['bmi']>30].count().bmi\n",
        "print(\"{}% stroke patients are obese\".format((having_diab/(having_stroke_df.shape[0])*100)))"
      ]
    },
    {
      "cell_type": "markdown",
      "metadata": {
        "id": "I3Xd2EhQKPD2"
      },
      "source": [
        "#### Q5: What is the smoking history of the stroke patients?"
      ]
    },
    {
      "cell_type": "code",
      "execution_count": null,
      "metadata": {
        "id": "Eg1EWwzbKPD2",
        "outputId": "16449e96-0c10-4e9f-9369-c96e11d460d7"
      },
      "outputs": [
        {
          "name": "stdout",
          "output_type": "stream",
          "text": [
            "The smoking history of stroke patients is: \n",
            "46.666666666666664% of stroke patients have never smoked\n",
            "53.333333333333336% of stroke patients smoke or have smoked\n"
          ]
        }
      ],
      "source": [
        "print(\"The smoking history of stroke patients is: \")\n",
        "smoke_df=having_stroke_df.smoking_status.value_counts()\n",
        "smoke_df=smoke_df[['never smoked','formerly smoked','smokes']]\n",
        "print(\"{}% of stroke patients have never smoked\".format(smoke_df['never smoked']*100/smoke_df.sum()))\n",
        "print(\"{}% of stroke patients smoke or have smoked\".format((smoke_df['formerly smoked']+smoke_df['smokes'])*100/smoke_df.sum()))"
      ]
    },
    {
      "cell_type": "code",
      "execution_count": null,
      "metadata": {
        "id": "iJtL3zgyKPD2",
        "outputId": "823590e6-69a6-4477-c421-7cdce1e87fc0"
      },
      "outputs": [
        {
          "data": {
            "text/plain": [
              "([<matplotlib.patches.Wedge at 0x7fabf4092220>,\n",
              "  <matplotlib.patches.Wedge at 0x7fabf40929a0>,\n",
              "  <matplotlib.patches.Wedge at 0x7fabf4092fa0>],\n",
              " [Text(-1.193426275224861, 0.12543414847207549, 'never smoked'),\n",
              "  Text(0.7778174593052022, -0.7778174593052025, 'formerly smoked'),\n",
              "  Text(0.7551844750807374, 0.932575149034667, 'smokes')],\n",
              " [Text(-0.6961653272145021, 0.07316991994204403, '46.7%'),\n",
              "  Text(0.4242640687119284, -0.4242640687119286, '31.7%'),\n",
              "  Text(0.4405242771304301, 0.5440021702702225, '21.7%')])"
            ]
          },
          "execution_count": 37,
          "metadata": {},
          "output_type": "execute_result"
        },
        {
          "data": {
            "image/png": "[encoded data removed]",
            "text/plain": [
              "<Figure size 648x360 with 1 Axes>"
            ]
          },
          "metadata": {},
          "output_type": "display_data"
        }
      ],
      "source": [
        "plt.pie(smoke_df,labels=smoke_df.index,autopct ='%.1f%%',startangle=90,explode=[0.1,0,0.1])"
      ]
    },
    {
      "cell_type": "markdown",
      "metadata": {
        "id": "jFV8VtdOKPD3"
      },
      "source": [
        "#### Q6: If a patient has hypertension, is obese & has active smoking history, what are the chances of stroke?"
      ]
    },
    {
      "cell_type": "code",
      "execution_count": null,
      "metadata": {
        "id": "1GfBx4WtKPD3",
        "outputId": "3ed53530-8f97-4257-a0f5-968dd35b8841"
      },
      "outputs": [
        {
          "data": {
            "text/plain": [
              "([<matplotlib.patches.Wedge at 0x7fabf405f640>,\n",
              "  <matplotlib.patches.Wedge at 0x7fabf405fdc0>],\n",
              " [Text(-0.4485804963754457, -1.1130029372250367, '0'),\n",
              "  Text(0.41119878834415874, 1.0202526924562836, '1')],\n",
              " [Text(-0.26167195621900996, -0.6492517133812713, '87.8%'),\n",
              "  Text(0.22429024818772292, 0.5565014686125183, '12.2%')])"
            ]
          },
          "execution_count": 38,
          "metadata": {},
          "output_type": "execute_result"
        },
        {
          "data": {
            "image/png": "[encoded data removed]",
            "text/plain": [
              "<Figure size 648x360 with 1 Axes>"
            ]
          },
          "metadata": {},
          "output_type": "display_data"
        }
      ],
      "source": [
        "major_factor_df=stroke_df[(stroke_df['hypertension']==1) & \n",
        "                          ((stroke_df['smoking_status']=='smokes') | (stroke_df['smoking_status']=='formerly_smoked')) & \n",
        "                          (stroke_df['avg_glucose_level']>30 )]\n",
        "major_factor_df=major_factor_df.stroke.value_counts()\n",
        "plt.pie(major_factor_df,labels=major_factor_df.index,autopct ='%.1f%%',startangle=90,explode=[0.1,0])"
      ]
    },
    {
      "cell_type": "markdown",
      "metadata": {
        "id": "TwpnV1xqKPD3"
      },
      "source": [
        "## Inferences and Conclusion\n",
        "\n",
        "Through this project, we performed a detailed analysis of the various factors that contribute towards stroke. We observed the results graphically using rich python libraries like seaborn & matplotlib. Some of the inferences/observations are mentioned below:\n",
        "- The dataset arranged was highly imbalanced. Out of ~3000 entries of people, only 209 stroke patients were found. This is a very huge imbalance. We reduced & uniformed the dataset accordingly to proceed further. Data required some cleaning & preprocessing, which was done properly.\n",
        "- Majority of the analysis was performed on those 209 patients having stroke, in which the data was inclined more towards females creating a bias.\n",
        "- The major contribution for stroke were found to be obesity, hypertension & smoking history. Approximately 45% of the stroke patients were found to be obese, having BMI 30+. While only a minute fraction of less than 1% stroke patients were underweight. Hypertension also contributed to approximately 30% cases of stroke. Having a smoking history was another major contribution, resulting in stroke. \n",
        "- In further analysis, it can be found that anyone having all these 3 symptoms had the highest probability to have stroke, while comparing any other parameters. The proper procedure for this study was done in another project linked here:\n",
        "- We also had a look at the emotional & the social status of stroke patients to see if any pattern can be observed there. We saw that people living in urban areas & having a private life & also usually married, have a greater probability of having stroke. This can be attributed to the extremely busy lives found in such living environments leading to development of the 3 major factors. \n",
        "- A shocking factor was that the rural areas also contributed to around 45% of stroke cases. But these patients did not have a profound history of hypertension or obesity. So it can be said that it might have happened due to lack of information being spread & other societal work load.\n",
        "- Many other conclusions can be inferred from the above analysis, & I will be analysing it further to squeeze more lemonade out of this dataset. Any suggestions are welcome whole-heartedly.\n"
      ]
    },
    {
      "cell_type": "markdown",
      "metadata": {
        "id": "W3bwUG4bKPD4"
      },
      "source": [
        "## References and Future Work\n",
        "\n",
        "- The dataset can be found here: https://www.kaggle.com/datasets/fedesoriano/stroke-prediction-dataset\n",
        "- More insights about stroke can be found here: https://www.nhs.uk/conditions/stroke/causes/#:~:text=The%20main%20cause%20of%20haemorrhagic,drinking%20excessive%20amounts%20of%20alcohol "
      ]
    },
    {
      "cell_type": "markdown",
      "metadata": {
        "id": "OapXhMgEKPD4"
      },
      "source": [
        "## Saving & uploading notebook\n",
        "   As mentioned at the start of the project, saving a final report of the project on analysing & predicting stroke."
      ]
    },
    {
      "cell_type": "code",
      "execution_count": null,
      "metadata": {
        "id": "hkO0NbouKPD4",
        "outputId": "69b5564f-c5ec-4b1d-b3a2-3e98fcf450b0"
      },
      "outputs": [
        {
          "data": {
            "application/javascript": [
              "window.require && require([\"base/js/namespace\"],function(Jupyter){Jupyter.notebook.save_checkpoint()})"
            ],
            "text/plain": [
              "<IPython.core.display.Javascript object>"
            ]
          },
          "metadata": {},
          "output_type": "display_data"
        }
      ],
      "source": [
        "project_name = \"stroke-analysis-and-prediction\" \n",
        "!pip install jovian --upgrade -q\n",
        "import jovian\n",
        "jovian.commit(project=project_name)"
      ]
    }
  ],
  "metadata": {
    "kernelspec": {
      "display_name": "Python 3 (ipykernel)",
      "language": "python",
      "name": "python3"
    },
    "language_info": {
      "codemirror_mode": {
        "name": "ipython",
        "version": 3
      },
      "file_extension": ".py",
      "mimetype": "text/x-python",
      "name": "python",
      "nbconvert_exporter": "python",
      "pygments_lexer": "ipython3",
      "version": "3.9.6"
    },
    "colab": {
      "name": "stroke-analysis-and-prediction.ipynb",
      "provenance": [],
      "include_colab_link": true
    }
  },
  "nbformat": 4,
  "nbformat_minor": 0
}